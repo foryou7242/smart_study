{
 "cells": [
  {
   "cell_type": "markdown",
   "metadata": {},
   "source": [
    "# Numpy basics\n",
    "\n",
    "Numpy is a backbone for number-crunching applications. It is heavily used where the speed is important!"
   ]
  },
  {
   "cell_type": "code",
   "execution_count": 1,
   "metadata": {},
   "outputs": [],
   "source": [
    "import numpy as np"
   ]
  },
  {
   "cell_type": "code",
   "execution_count": 2,
   "metadata": {},
   "outputs": [
    {
     "name": "stdout",
     "output_type": "stream",
     "text": [
      "[1. 2. 3.]\n"
     ]
    }
   ],
   "source": [
    "x = np.array([1., 2., 3.])  # np.array is wrapper for a C array\n",
    "y = np.array([1., 2., 3.])\n",
    "print(x)"
   ]
  },
  {
   "cell_type": "markdown",
   "metadata": {},
   "source": [
    "### What are vector, matrix, and tensor?\n",
    "- vector: 1d array\n",
    "- matrix: 2d array\n",
    "- tensor: nd array"
   ]
  },
  {
   "cell_type": "code",
   "execution_count": 3,
   "metadata": {},
   "outputs": [],
   "source": [
    "# How these two should be printed?\n",
    "# print(x.reshape(1,3,1))\n",
    "# print(np.random.normal(size=(2,2,3)))"
   ]
  },
  {
   "cell_type": "markdown",
   "metadata": {},
   "source": [
    "### Windowing: slicing, indexing"
   ]
  },
  {
   "cell_type": "code",
   "execution_count": 4,
   "metadata": {},
   "outputs": [],
   "source": [
    "x_view = x[:2]  # copy involed?\n",
    "x[0] = -1.0\n",
    "# print(x_view)"
   ]
  },
  {
   "cell_type": "markdown",
   "metadata": {},
   "source": [
    "### [Broadcasting](https://docs.scipy.org/doc/numpy/reference/ufuncs.html#ufuncs-broadcasting)\n",
    "\n",
    "3 cases\n",
    "- The arrays all have exactly the same shape.\n",
    "- The arrays all have the same number of dimensions and the length of each dimensions is either a common length or 1.\n",
    "- The arrays that have too few dimensions can have their shapes prepended with a dimension of length 1 to satisfy property 2."
   ]
  },
  {
   "cell_type": "code",
   "execution_count": 5,
   "metadata": {},
   "outputs": [
    {
     "name": "stdout",
     "output_type": "stream",
     "text": [
      "[[[0]\n",
      "  [1]\n",
      "  [2]\n",
      "  [3]]\n",
      "\n",
      " [[4]\n",
      "  [5]\n",
      "  [6]\n",
      "  [7]]]\n",
      "[[[10]]\n",
      "\n",
      " [[20]]]\n"
     ]
    }
   ],
   "source": [
    "# case 2\n",
    "x1 = np.array(range(8)).reshape(2,4,1)\n",
    "x2 = np.array([10, 20]).reshape(2,1,1)\n",
    "print(x1)\n",
    "print(x2)"
   ]
  },
  {
   "cell_type": "code",
   "execution_count": 6,
   "metadata": {},
   "outputs": [],
   "source": [
    "# print(x1 + x2)"
   ]
  },
  {
   "cell_type": "code",
   "execution_count": 7,
   "metadata": {},
   "outputs": [
    {
     "name": "stdout",
     "output_type": "stream",
     "text": [
      "[[[0]\n",
      "  [1]\n",
      "  [2]\n",
      "  [3]]\n",
      "\n",
      " [[4]\n",
      "  [5]\n",
      "  [6]\n",
      "  [7]]]\n",
      "[0 2]\n"
     ]
    }
   ],
   "source": [
    "# case 3\n",
    "x1 = np.array(range(8)).reshape(2,4,1)\n",
    "x2 = (np.array(range(2)) * 2)\n",
    "print(x1)\n",
    "print(x2)"
   ]
  },
  {
   "cell_type": "code",
   "execution_count": 8,
   "metadata": {},
   "outputs": [],
   "source": [
    "# x1 + x2"
   ]
  },
  {
   "cell_type": "markdown",
   "metadata": {},
   "source": [
    "### [np.matmul](https://docs.scipy.org/doc/numpy/reference/generated/numpy.matmul.html)\n",
    "\n",
    "- If the first argument is 1-D, it is promoted to a matrix by prepending a 1 to its dimensions. After matrix multiplication the prepended 1 is removed.\n",
    "- If the second argument is 1-D, it is promoted to a matrix by appending a 1 to its dimensions. After matrix multiplication the appended 1 is removed.\n",
    "- If either argument is N-D, N > 2, it is treated as a stack of matrices residing in the last two indexes and broadcast accordingly."
   ]
  },
  {
   "cell_type": "code",
   "execution_count": 9,
   "metadata": {},
   "outputs": [],
   "source": [
    "x = np.array([1,2,3])\n",
    "# print(np.matmul(x,x))"
   ]
  },
  {
   "cell_type": "code",
   "execution_count": 10,
   "metadata": {},
   "outputs": [
    {
     "name": "stdout",
     "output_type": "stream",
     "text": [
      "[[0 1]\n",
      " [2 3]]\n",
      "[10 20]\n"
     ]
    }
   ],
   "source": [
    "x = np.array(range(4)).reshape(2,2)\n",
    "y = np.array([10, 20])\n",
    "print(x)\n",
    "print(y)"
   ]
  },
  {
   "cell_type": "code",
   "execution_count": 11,
   "metadata": {},
   "outputs": [],
   "source": [
    "# print(np.matmul(x,y))\n",
    "# print(np.matmul(y,x))"
   ]
  },
  {
   "cell_type": "code",
   "execution_count": 12,
   "metadata": {},
   "outputs": [
    {
     "name": "stdout",
     "output_type": "stream",
     "text": [
      "[[[0 1 2]]\n",
      "\n",
      " [[3 4 5]]\n",
      "\n",
      " [[6 7 8]]]\n",
      "[[4]\n",
      " [5]\n",
      " [6]]\n"
     ]
    }
   ],
   "source": [
    "x = np.array(range(9)).reshape(3,1,3)\n",
    "y = np.array([4,5,6]).reshape(3,1)\n",
    "print(x)\n",
    "print(y)"
   ]
  },
  {
   "cell_type": "code",
   "execution_count": 13,
   "metadata": {},
   "outputs": [
    {
     "name": "stdout",
     "output_type": "stream",
     "text": [
      "[[[ 17]]\n",
      "\n",
      " [[ 62]]\n",
      "\n",
      " [[107]]]\n",
      "[[[ 0  4  8]\n",
      "  [ 0  5 10]\n",
      "  [ 0  6 12]]\n",
      "\n",
      " [[12 16 20]\n",
      "  [15 20 25]\n",
      "  [18 24 30]]\n",
      "\n",
      " [[24 28 32]\n",
      "  [30 35 40]\n",
      "  [36 42 48]]]\n"
     ]
    }
   ],
   "source": [
    "print(np.matmul(x, y))\n",
    "print(np.matmul(y, x))"
   ]
  },
  {
   "cell_type": "markdown",
   "metadata": {},
   "source": [
    "# More on\n",
    "### 1. Make a function to get the consine similarity(distance) between two matrices\n",
    "### 2. How getitem is implemented in Python"
   ]
  }
 ],
 "metadata": {
  "kernelspec": {
   "display_name": "Python 3",
   "language": "python",
   "name": "python3"
  },
  "language_info": {
   "codemirror_mode": {
    "name": "ipython",
    "version": 3
   },
   "file_extension": ".py",
   "mimetype": "text/x-python",
   "name": "python",
   "nbconvert_exporter": "python",
   "pygments_lexer": "ipython3",
   "version": "3.6.5"
  }
 },
 "nbformat": 4,
 "nbformat_minor": 2
}
