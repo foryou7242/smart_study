{
 "cells": [
  {
   "cell_type": "code",
   "execution_count": 9,
   "metadata": {},
   "outputs": [
    {
     "name": "stdout",
     "output_type": "stream",
     "text": [
      "{'a': [1, 2, 3], 'b': [4, 5]}\n",
      "1\n",
      "{'a': {1: '123', 2: '12', 3: '1'}, 'b': {4, 5}}\n",
      "123\n"
     ]
    }
   ],
   "source": [
    "d = {\n",
    "'a' : [1, 2, 3],\n",
    "'b' : [4, 5]\n",
    "}\n",
    "e = {\n",
    "'a' : {1 : '123', 2 : '12', 3 : '1'},\n",
    "'b' : {4, 5}\n",
    "}\n",
    "print(d)\n",
    "print(d['a'][0])\n",
    "print(e)\n",
    "print(e['a'][1])\n"
   ]
  },
  {
   "cell_type": "code",
   "execution_count": 25,
   "metadata": {},
   "outputs": [
    {
     "name": "stdout",
     "output_type": "stream",
     "text": [
      "defaultdict(<class 'list'>, {'a': [1, 2], 'c': [2123]})\n",
      "defaultdict(<class 'set'>, {'a': {1, 2}})\n"
     ]
    }
   ],
   "source": [
    "from collections import defaultdict\n",
    "\n",
    "d = defaultdict(list)\n",
    "d['a'].append(1)\n",
    "d['a'].append(2)\n",
    "d['c'].append(2123)\n",
    "print(d)\n",
    "\n",
    "d = defaultdict(set)\n",
    "d['a'].add(1)\n",
    "d['a'].add(2)\n",
    "\n",
    "print(d)"
   ]
  },
  {
   "cell_type": "code",
   "execution_count": 26,
   "metadata": {},
   "outputs": [
    {
     "name": "stdout",
     "output_type": "stream",
     "text": [
      "{'a': [1, 2], 'b': [4]}\n"
     ]
    }
   ],
   "source": [
    "d = {}\n",
    "# A regular dictionary\n",
    "d.setdefault('a', []).append(1)\n",
    "d.setdefault('a', []).append(2)\n",
    "d.setdefault('b', []).append(4)\n",
    "print(d)"
   ]
  },
  {
   "cell_type": "code",
   "execution_count": 48,
   "metadata": {},
   "outputs": [
    {
     "name": "stdout",
     "output_type": "stream",
     "text": [
      "{1: [3, 33], 2: [33]}\n",
      "3\n"
     ]
    }
   ],
   "source": [
    "d = {}\n",
    "pairs = {(1,3),(1,33), (2,33)}\n",
    "#print(pairs)\n",
    "for key, value in pairs:\n",
    "    if key not in d:\n",
    "        d[key] = []\n",
    " #print(key)\n",
    "#    print(value)\n",
    "    d[key].append(value)\n",
    "print(d)\n",
    "print(d.get(1)[0])"
   ]
  },
  {
   "cell_type": "code",
   "execution_count": 45,
   "metadata": {},
   "outputs": [
    {
     "name": "stdout",
     "output_type": "stream",
     "text": [
      "defaultdict(<class 'list'>, {1: [3], 2: [33]})\n"
     ]
    }
   ],
   "source": [
    "d = defaultdict(list)\n",
    "pairs = {(1,3), (2,33)}\n",
    "\n",
    "for key, value in pairs:\n",
    "    d[key].append(value)\n",
    "print(d)"
   ]
  }
 ],
 "metadata": {
  "kernelspec": {
   "display_name": "Python 3",
   "language": "python",
   "name": "python3"
  },
  "language_info": {
   "codemirror_mode": {
    "name": "ipython",
    "version": 3
   },
   "file_extension": ".py",
   "mimetype": "text/x-python",
   "name": "python",
   "nbconvert_exporter": "python",
   "pygments_lexer": "ipython3",
   "version": "3.6.5"
  }
 },
 "nbformat": 4,
 "nbformat_minor": 2
}
