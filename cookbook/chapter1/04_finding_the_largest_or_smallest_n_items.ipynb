{
 "cells": [
  {
   "cell_type": "code",
   "execution_count": 2,
   "metadata": {},
   "outputs": [
    {
     "name": "stdout",
     "output_type": "stream",
     "text": [
      "[42, 36, 23]\n",
      "[-4, 1, 2]\n",
      "[-4, 1, 2]\n"
     ]
    }
   ],
   "source": [
    "# import heapq\n",
    "\n",
    "nums = [1,8,2,23,7,-4,18,23,42,36,2]\n",
    "\n",
    "print(heapq.nlargest(3,nums))\n",
    "print(heapq.nsmallest(3,nums))\n",
    "print(heapq.nsmallest(3,nums))\n"
   ]
  },
  {
   "cell_type": "code",
   "execution_count": 81,
   "metadata": {},
   "outputs": [
    {
     "data": {
      "text/plain": [
       "[-4, 2, 1, 23, 7, 12, 18, 23, 42, 37, 44]"
      ]
     },
     "execution_count": 81,
     "metadata": {},
     "output_type": "execute_result"
    }
   ],
   "source": [
    "nums = [1, 44, 12 ,23, 7, -4, 18, 23, 42, 37, 2]\n",
    "import heapq\n",
    "heap = list(nums)\n",
    "heapq.heapify(heap)\n",
    "heap"
   ]
  },
  {
   "cell_type": "code",
   "execution_count": 1,
   "metadata": {},
   "outputs": [
    {
     "name": "stdout",
     "output_type": "stream",
     "text": [
      "[-4, 2, 1, 23, 7, 12, 18, 23, 42, 37, 44]\n"
     ]
    }
   ],
   "source": [
    "#soring heap\n",
    "'''\n",
    "Heapsort(A) {\n",
    "   BuildHeap(A)\n",
    "   for i <- length(A) downto 2 {\n",
    "      exchange A[1] <-> A[i]\n",
    "      heapsize <- heapsize -1\n",
    "      Heapify(A, 1)\n",
    "}\n",
    "\n",
    "\n",
    "\n",
    "BuildHeap(A) {\n",
    "   heapsize <- length(A)\n",
    "   for i <- floor( length/2 ) downto 1\n",
    "      Heapify(A, i)\n",
    "}\n",
    "\n",
    "\n",
    "\n",
    "\n",
    "Heapify(A, i) {\n",
    "   le <- left(i)\n",
    "   ri <- right(i)\n",
    "   if (le<=heapsize) and (A[le]>A[i])\n",
    "      largest <- le\n",
    "   else\n",
    "      largest <- i \n",
    "   if (ri<=heapsize) and (A[ri]>A[largest])\n",
    "      largest <- ri\n",
    "   if (largest != i) {\n",
    "      exchange A[i] <-> A[largest]\n",
    "      Heapify(A, largest)\n",
    "   }\n",
    "}\n",
    "\n",
    "'''\n",
    "\n",
    "import math as m\n",
    "nums = [1, 44, 12, 23, 7, -4, 18, 23, 42, 37, 2]\n",
    "class heap:\n",
    "    def __init__(self, array):\n",
    "        self.heapArray = self.BuildHeap( array)\n",
    "       # print(self.heapArray)\n",
    "    \n",
    "    def BuildHeap(self, array):\n",
    "      #  print(array)\n",
    "        for i in range(m.floor(len(array)/2) - 1,-1, -1):\n",
    "          #  print(f'test {i}')\n",
    "            self.heapify(array, i)\n",
    "        return array\n",
    "    def heapify(self, array, index):\n",
    "        #print(f'index : {index}')\n",
    "        le = (index + 1) * 2 - 1  #left\n",
    "        ri = (index + 1) * 2   #right\n",
    "        #print(le)\n",
    "        #print(ri)\n",
    "        largest = index;\n",
    "        if(le < len(array)):\n",
    "            if(array[le] < array[largest]):\n",
    "                largest = le\n",
    "        if(ri < len(array)):\n",
    "            if( array[ri] < array[largest]):\n",
    "                largest = ri\n",
    "        \n",
    "        if(largest != index):\n",
    "            temp = array[index];\n",
    "            array[index]=array[largest]\n",
    "            array[largest]= temp\n",
    "            #print(f\"small {temp},  big {array[index]}\")\n",
    "            #print(array)\n",
    "            #print(index)\n",
    "            self.heapify(array, largest)\n",
    "\n",
    "h = heap(nums)\n",
    "\n",
    "print(h.heapArray)\n",
    "   \n",
    "#[-4, 2, 1, 23, 7, 12, 18, 23, 42, 37, 44]"
   ]
  },
  {
   "cell_type": "code",
   "execution_count": 47,
   "metadata": {},
   "outputs": [
    {
     "name": "stdout",
     "output_type": "stream",
     "text": [
      "11\n",
      "0\n",
      "1\n",
      "2\n",
      "3\n",
      "4\n",
      "5\n",
      "6\n",
      "7\n",
      "8\n",
      "9\n",
      "10\n",
      "8\n"
     ]
    }
   ],
   "source": [
    "nums = [1, 8, 2, 23, 7, -4, 18, 23, 42, 37, 2]\n",
    "print(len(nums))\n",
    "\n",
    "for i in range(0, len(nums)):\n",
    "    print(i)\n",
    "print(nums[1])"
   ]
  },
  {
   "cell_type": "code",
   "execution_count": 4,
   "metadata": {},
   "outputs": [
    {
     "name": "stdout",
     "output_type": "stream",
     "text": [
      "False\n",
      "4\n"
     ]
    }
   ],
   "source": [
    "import math as m\n",
    "print(1 < -4)\n",
    "\n",
    "print(m.floor(4.4))"
   ]
  }
 ],
 "metadata": {
  "kernelspec": {
   "display_name": "Python 3",
   "language": "python",
   "name": "python3"
  },
  "language_info": {
   "codemirror_mode": {
    "name": "ipython",
    "version": 3
   },
   "file_extension": ".py",
   "mimetype": "text/x-python",
   "name": "python",
   "nbconvert_exporter": "python",
   "pygments_lexer": "ipython3",
   "version": "3.6.5"
  }
 },
 "nbformat": 4,
 "nbformat_minor": 2
}
