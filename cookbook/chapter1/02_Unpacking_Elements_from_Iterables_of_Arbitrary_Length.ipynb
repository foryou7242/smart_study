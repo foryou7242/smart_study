{
 "cells": [
  {
   "cell_type": "code",
   "execution_count": 1,
   "metadata": {},
   "outputs": [],
   "source": [
    "#!/usr/bin/env python3\n",
    "# -*- coding: utf-8 -*-\n",
    "\"\"\"\n",
    "Created on Mon Sep 10 23:41:23 2018\n",
    "\n",
    "@author: sungyunlee\n",
    "\"\"\"\n",
    "\n",
    "'''\n",
    "Probelm\n",
    "You need to unpack N elements from an iterable, \n",
    "but the iterable may be longer than N elements, \n",
    "causing a “too many values to unpack” exception.\n",
    "'''\n",
    "\n",
    "# Python “star expressions” can be used to address this problem. \n",
    "def drop_first_last(grades): \n",
    "    first, *middle, last = grades \n",
    "    return avg(middle)"
   ]
  },
  {
   "cell_type": "code",
   "execution_count": 2,
   "metadata": {},
   "outputs": [],
   "source": [
    "'''\n",
    "Solution\n",
    "'''\n",
    "# suppose you have user records that consist of a name and email address, \n",
    "# followed by an arbitrary number of phone number\n",
    "user_record = ('Dave', 'dave@example.com', '773-555-1212', '847-555-1212')\n",
    "name, email, *phone_numbers = user_record\n",
    "\n",
    "user_record = ('Dave', 'dave@example.com')\n",
    "name, email, *phone_numbers = user_record"
   ]
  },
  {
   "cell_type": "code",
   "execution_count": 3,
   "metadata": {},
   "outputs": [
    {
     "name": "stdout",
     "output_type": "stream",
     "text": [
      "7.142857142857143 3\n"
     ]
    }
   ],
   "source": [
    "# The starred variable can also be the first one in the list.\n",
    "sales_record = [10, 8, 7, 1, 9, 5, 10, 3]\n",
    "*trailing_qtrs, current_qtr = sales_record \n",
    "trailing_avg = sum(trailing_qtrs) / len(trailing_qtrs) \n",
    "print(trailing_avg, current_qtr)"
   ]
  },
  {
   "cell_type": "code",
   "execution_count": 4,
   "metadata": {},
   "outputs": [
    {
     "name": "stdout",
     "output_type": "stream",
     "text": [
      "foo 1 2\n",
      "bar hello\n",
      "foo 3 4\n"
     ]
    }
   ],
   "source": [
    "'''\n",
    "Discussion\n",
    "'''\n",
    "# Extended iterable unpacking is tailor-made for unpacking iterables of\n",
    "# unknown or ar‐ bitrary length\n",
    "# It is worth noting that the star syntax can be especially useful \n",
    "# when iterating over a sequence of tuples of varying length\n",
    "\n",
    "records = [\n",
    "     ('foo', 1, 2),\n",
    "     ('bar', 'hello'),\n",
    "     ('foo', 3, 4),\n",
    "]\n",
    "def do_foo(x, y): \n",
    "    print('foo', x, y)\n",
    "def do_bar(s): \n",
    "    print('bar', s)\n",
    "for tag, *args in records: \n",
    "    if tag == 'foo':\n",
    "        do_foo(*args) \n",
    "    elif tag == 'bar':\n",
    "        do_bar(*args)"
   ]
  },
  {
   "cell_type": "code",
   "execution_count": 5,
   "metadata": {},
   "outputs": [
    {
     "name": "stdout",
     "output_type": "stream",
     "text": [
      "nobody /var/empty /usr/bin/false\n",
      "['*', '-2', '-2', 'Unprivileged User']\n"
     ]
    }
   ],
   "source": [
    "# Star unpacking can also be useful when combined \n",
    "# with certain kinds of string processing operations, such as splitting\n",
    "\n",
    "line = 'nobody:*:-2:-2:Unprivileged User:/var/empty:/usr/bin/false'\n",
    "uname, *fields, homedir, sh = line.split(':')\n",
    "print(uname, homedir, sh)\n",
    "print(fields)"
   ]
  },
  {
   "cell_type": "code",
   "execution_count": 6,
   "metadata": {},
   "outputs": [
    {
     "name": "stdout",
     "output_type": "stream",
     "text": [
      "ACME 2012\n"
     ]
    }
   ],
   "source": [
    "# Sometimes you might want to unpack values and throw them away. \n",
    "# You can’t just specify a bare * when unpacking, but you could use \n",
    "# a common throwaway variable name, such as _ or ign (ignored).\n",
    "\n",
    "record = ('ACME', 50, 123.45, (12, 18, 2012))\n",
    "name, *_, (*_, year) = record\n",
    "print(name, year)"
   ]
  },
  {
   "cell_type": "code",
   "execution_count": 7,
   "metadata": {},
   "outputs": [
    {
     "name": "stdout",
     "output_type": "stream",
     "text": [
      "1\n"
     ]
    }
   ],
   "source": [
    "# There is a certain similarity between star unpacking and \n",
    "# list-processing features of var‐ ious functional languages\n",
    "items = [1, 10, 7, 4, 5, 9]\n",
    "head, *tail = items\n",
    "print(head)"
   ]
  },
  {
   "cell_type": "code",
   "execution_count": 8,
   "metadata": {},
   "outputs": [],
   "source": [
    "# One could imagine writing functions that perform such splitting \n",
    "# in order to carry out some kind of clever recursive algorithm\n",
    "\n",
    "def sum(items):\n",
    "    head, *tail = items\n",
    "    return head + sum(tail) if tail else head"
   ]
  }
 ],
 "metadata": {
  "kernelspec": {
   "display_name": "Python 3",
   "language": "python",
   "name": "python3"
  },
  "language_info": {
   "codemirror_mode": {
    "name": "ipython",
    "version": 3
   },
   "file_extension": ".py",
   "mimetype": "text/x-python",
   "name": "python",
   "nbconvert_exporter": "python",
   "pygments_lexer": "ipython3",
   "version": "3.6.6"
  }
 },
 "nbformat": 4,
 "nbformat_minor": 2
}
