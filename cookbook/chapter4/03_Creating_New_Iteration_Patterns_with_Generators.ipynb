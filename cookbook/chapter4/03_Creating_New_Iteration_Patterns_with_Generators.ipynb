{
 "cells": [
  {
   "cell_type": "code",
   "execution_count": 1,
   "metadata": {},
   "outputs": [
    {
     "data": {
      "text/plain": [
       "'\\nProblem\\nYou want to implement a custom iteration pattern that’s different than \\nthe usual built- in functions (e.g., range(), reversed(), etc.).\\n'"
      ]
     },
     "execution_count": 1,
     "metadata": {},
     "output_type": "execute_result"
    }
   ],
   "source": [
    "#!/usr/bin/env python3\n",
    "# -*- coding: utf-8 -*-\n",
    "\"\"\"\n",
    "Created on Wed Oct 24 00:03:19 2018\n",
    "\n",
    "@author: sungyunlee\n",
    "\"\"\"\n",
    "'''\n",
    "Problem\n",
    "You want to implement a custom iteration pattern that’s different than \n",
    "the usual built- in functions (e.g., range(), reversed(), etc.).\n",
    "'''"
   ]
  },
  {
   "cell_type": "code",
   "execution_count": 2,
   "metadata": {},
   "outputs": [],
   "source": [
    "'''\n",
    "If you want to implement a new kind of iteration pattern, define it using \n",
    "a generator function. \n",
    "Here’s a generator that produces a range of floating-point numbers:\n",
    "'''\n",
    "def frange(start, stop, increment): \n",
    "    x = start\n",
    "    while x < stop: \n",
    "        yield x\n",
    "        x += increment\n",
    "  "
   ]
  },
  {
   "cell_type": "code",
   "execution_count": 3,
   "metadata": {},
   "outputs": [
    {
     "name": "stdout",
     "output_type": "stream",
     "text": [
      "0\n",
      "0.5\n",
      "1.0\n",
      "1.5\n",
      "2.0\n",
      "2.5\n",
      "3.0\n",
      "3.5\n",
      "[0, 0.125, 0.25, 0.375, 0.5, 0.625, 0.75, 0.875]\n"
     ]
    }
   ],
   "source": [
    "'''\n",
    "To use such a function, you iterate over it using a for loop or use it with some other\n",
    "function that consumes an iterable (e.g., sum(), list(), etc.). \n",
    "'''\n",
    "\n",
    "for n in frange(0, 4, 0.5):\n",
    "    print(n)\n",
    "\n",
    "print(list(frange(0, 1, 0.125)))"
   ]
  },
  {
   "cell_type": "code",
   "execution_count": 4,
   "metadata": {},
   "outputs": [
    {
     "name": "stdout",
     "output_type": "stream",
     "text": [
      "<generator object countdown at 0x108303620>\n",
      "Starting to count from 3\n",
      "3\n",
      "2\n",
      "1\n",
      "Done!\n"
     ]
    },
    {
     "ename": "StopIteration",
     "evalue": "",
     "output_type": "error",
     "traceback": [
      "\u001b[0;31m---------------------------------------------------------------------------\u001b[0m",
      "\u001b[0;31mStopIteration\u001b[0m                             Traceback (most recent call last)",
      "\u001b[0;32m<ipython-input-4-4c6e21bfb5f8>\u001b[0m in \u001b[0;36m<module>\u001b[0;34m()\u001b[0m\n\u001b[1;32m     24\u001b[0m \u001b[0mprint\u001b[0m\u001b[0;34m(\u001b[0m\u001b[0mnext\u001b[0m\u001b[0;34m(\u001b[0m\u001b[0mc\u001b[0m\u001b[0;34m)\u001b[0m\u001b[0;34m)\u001b[0m\u001b[0;34m\u001b[0m\u001b[0m\n\u001b[1;32m     25\u001b[0m \u001b[0;31m# Run to next yield (iteration stops)\u001b[0m\u001b[0;34m\u001b[0m\u001b[0;34m\u001b[0m\u001b[0m\n\u001b[0;32m---> 26\u001b[0;31m \u001b[0mprint\u001b[0m\u001b[0;34m(\u001b[0m\u001b[0mnext\u001b[0m\u001b[0;34m(\u001b[0m\u001b[0mc\u001b[0m\u001b[0;34m)\u001b[0m\u001b[0;34m)\u001b[0m\u001b[0;34m\u001b[0m\u001b[0m\n\u001b[0m",
      "\u001b[0;31mStopIteration\u001b[0m: "
     ]
    }
   ],
   "source": [
    "'''\n",
    "The mere presence of the yield statement in a function turns it into a generator.\n",
    "Unlike a normal function, a generator only runs in response to iteration. \n",
    "Here’s an experiment you can try to see the underlying mechanics of \n",
    "how such a function works\n",
    "'''\n",
    "\n",
    "def countdown(n):\n",
    "    print('Starting to count from', n) \n",
    "    while n > 0:\n",
    "        yield n\n",
    "        n -= 1 \n",
    "    print('Done!')\n",
    "        \n",
    "# Create the generator, notice no output appears\n",
    "c = countdown(3)\n",
    "print(c)\n",
    "\n",
    "# Run to first yield and emit a value\n",
    "print(next(c))\n",
    "# Run to the next yield\n",
    "print(next(c))\n",
    "# Run to next yield\n",
    "print(next(c))\n",
    "# Run to next yield (iteration stops)\n",
    "print(next(c))"
   ]
  },
  {
   "cell_type": "code",
   "execution_count": null,
   "metadata": {},
   "outputs": [],
   "source": [
    "'''\n",
    "The key feature is that a generator function only runs in response to “next” operations \n",
    "carried out in iteration. Once a generator function returns, iteration stops. \n",
    "However, the for statement that’s usually used to iterate takes care of these details, \n",
    "so you don’t normally need to worry about them.\n",
    "'''"
   ]
  }
 ],
 "metadata": {
  "kernelspec": {
   "display_name": "Python 3",
   "language": "python",
   "name": "python3"
  },
  "language_info": {
   "codemirror_mode": {
    "name": "ipython",
    "version": 3
   },
   "file_extension": ".py",
   "mimetype": "text/x-python",
   "name": "python",
   "nbconvert_exporter": "python",
   "pygments_lexer": "ipython3",
   "version": "3.6.6"
  }
 },
 "nbformat": 4,
 "nbformat_minor": 2
}
