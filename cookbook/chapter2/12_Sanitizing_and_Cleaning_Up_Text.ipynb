{
 "cells": [
  {
   "cell_type": "code",
   "execution_count": 1,
   "metadata": {},
   "outputs": [
    {
     "data": {
      "text/plain": [
       "'\\nProblem\\nSome bored script kiddie has entered the text “pýtĥöñ” into a form on your web page\\n and you’d like to clean it up somehow.\\n'"
      ]
     },
     "execution_count": 1,
     "metadata": {},
     "output_type": "execute_result"
    }
   ],
   "source": [
    "#!/usr/bin/env python3\n",
    "# -*- coding: utf-8 -*-\n",
    "\"\"\"\n",
    "Created on Sat Oct 13 08:14:07 2018\n",
    "\n",
    "@author: sungyunlee\n",
    "\"\"\"\n",
    "\n",
    "'''\n",
    "Problem\n",
    "Some bored script kiddie has entered the text “pýtĥöñ” into a form on your web page\n",
    " and you’d like to clean it up somehow.\n",
    "'''"
   ]
  },
  {
   "cell_type": "code",
   "execution_count": 2,
   "metadata": {},
   "outputs": [
    {
     "name": "stdout",
     "output_type": "stream",
     "text": [
      "pýtĥöñ\f",
      "is\tawesome\r\n",
      "\n",
      "pýtĥöñ is awesome\n",
      "\n"
     ]
    }
   ],
   "source": [
    "# The problem of sanitizing and cleaning up text applies to a wide variety of problems \n",
    "# involving text parsing and data handling. At a very simple level, \n",
    "# you might use basic string functions (e.g., str.upper() and str.lower()) \n",
    "# to convert text to a standard case. Simple replacements using str.replace() \n",
    "# or re.sub() can focus on removing or changing very specific character sequences. \n",
    "# You can also normalize text using unicode data.normalize()\n",
    "\n",
    "# However, you might want to take the sanitation process a step further. Perhaps, \n",
    "# for example, you want to eliminate whole ranges of characters or \n",
    "# strip diacritical marks. To do so, you can turn to the often overlooked \n",
    "# str.translate() method\n",
    "\n",
    "s = 'pýtĥöñ\\fis\\tawesome\\r\\n'\n",
    "print(s)\n",
    "\n",
    "# The first step is to clean up the whitespace. To do this, \n",
    "# make a small translation table and use translate()\n",
    "\n",
    "remap = { \n",
    "        ord('\\t') : ' ',\n",
    "        ord('\\f') : ' ',\n",
    "        ord('\\r') : None \n",
    "        }\n",
    "a = s.translate(remap)\n",
    "print(a) # Deleted"
   ]
  },
  {
   "cell_type": "code",
   "execution_count": 3,
   "metadata": {},
   "outputs": [
    {
     "name": "stdout",
     "output_type": "stream",
     "text": [
      "{768: None, 769: None, 770: None, 771: None, 772: None, 773: None, 774: None, 775: None, 776: None, 777: None, 778: None, 779: None, 780: None, 781: None, 782: None, 783: None, 784: None, 785: None, 786: None, 787: None, 788: None, 789: None, 790: None, 791: None, 792: None, 793: None, 794: None, 795: None, 796: None, 797: None, 798: None, 799: None, 800: None, 801: None, 802: None, 803: None, 804: None, 805: None, 806: None, 807: None, 808: None, 809: None, 810: None, 811: None, 812: None, 813: None, 814: None, 815: None, 816: None, 817: None, 818: None, 819: None, 820: None, 821: None, 822: None, 823: None, 824: None, 825: None, 826: None, 827: None, 828: None, 829: None, 830: None, 831: None, 832: None, 833: None, 834: None, 835: None, 836: None, 837: None, 838: None, 839: None, 840: None, 841: None, 842: None, 843: None, 844: None, 845: None, 846: None, 848: None, 849: None, 850: None, 851: None, 852: None, 853: None, 854: None, 855: None, 856: None, 857: None, 858: None, 859: None, 860: None, 861: None, 862: None, 863: None, 864: None, 865: None, 866: None, 867: None, 868: None, 869: None, 870: None, 871: None, 872: None, 873: None, 874: None, 875: None, 876: None, 877: None, 878: None, 879: None, 1155: None, 1156: None, 1157: None, 1158: None, 1159: None, 1425: None, 1426: None, 1427: None, 1428: None, 1429: None, 1430: None, 1431: None, 1432: None, 1433: None, 1434: None, 1435: None, 1436: None, 1437: None, 1438: None, 1439: None, 1440: None, 1441: None, 1442: None, 1443: None, 1444: None, 1445: None, 1446: None, 1447: None, 1448: None, 1449: None, 1450: None, 1451: None, 1452: None, 1453: None, 1454: None, 1455: None, 1456: None, 1457: None, 1458: None, 1459: None, 1460: None, 1461: None, 1462: None, 1463: None, 1464: None, 1465: None, 1466: None, 1467: None, 1468: None, 1469: None, 1471: None, 1473: None, 1474: None, 1476: None, 1477: None, 1479: None, 1552: None, 1553: None, 1554: None, 1555: None, 1556: None, 1557: None, 1558: None, 1559: None, 1560: None, 1561: None, 1562: None, 1611: None, 1612: None, 1613: None, 1614: None, 1615: None, 1616: None, 1617: None, 1618: None, 1619: None, 1620: None, 1621: None, 1622: None, 1623: None, 1624: None, 1625: None, 1626: None, 1627: None, 1628: None, 1629: None, 1630: None, 1631: None, 1648: None, 1750: None, 1751: None, 1752: None, 1753: None, 1754: None, 1755: None, 1756: None, 1759: None, 1760: None, 1761: None, 1762: None, 1763: None, 1764: None, 1767: None, 1768: None, 1770: None, 1771: None, 1772: None, 1773: None, 1809: None, 1840: None, 1841: None, 1842: None, 1843: None, 1844: None, 1845: None, 1846: None, 1847: None, 1848: None, 1849: None, 1850: None, 1851: None, 1852: None, 1853: None, 1854: None, 1855: None, 1856: None, 1857: None, 1858: None, 1859: None, 1860: None, 1861: None, 1862: None, 1863: None, 1864: None, 1865: None, 1866: None, 2027: None, 2028: None, 2029: None, 2030: None, 2031: None, 2032: None, 2033: None, 2034: None, 2035: None, 2070: None, 2071: None, 2072: None, 2073: None, 2075: None, 2076: None, 2077: None, 2078: None, 2079: None, 2080: None, 2081: None, 2082: None, 2083: None, 2085: None, 2086: None, 2087: None, 2089: None, 2090: None, 2091: None, 2092: None, 2093: None, 2137: None, 2138: None, 2139: None, 2260: None, 2261: None, 2262: None, 2263: None, 2264: None, 2265: None, 2266: None, 2267: None, 2268: None, 2269: None, 2270: None, 2271: None, 2272: None, 2273: None, 2275: None, 2276: None, 2277: None, 2278: None, 2279: None, 2280: None, 2281: None, 2282: None, 2283: None, 2284: None, 2285: None, 2286: None, 2287: None, 2288: None, 2289: None, 2290: None, 2291: None, 2292: None, 2293: None, 2294: None, 2295: None, 2296: None, 2297: None, 2298: None, 2299: None, 2300: None, 2301: None, 2302: None, 2303: None, 2364: None, 2381: None, 2385: None, 2386: None, 2387: None, 2388: None, 2492: None, 2509: None, 2620: None, 2637: None, 2748: None, 2765: None, 2876: None, 2893: None, 3021: None, 3149: None, 3157: None, 3158: None, 3260: None, 3277: None, 3405: None, 3530: None, 3640: None, 3641: None, 3642: None, 3656: None, 3657: None, 3658: None, 3659: None, 3768: None, 3769: None, 3784: None, 3785: None, 3786: None, 3787: None, 3864: None, 3865: None, 3893: None, 3895: None, 3897: None, 3953: None, 3954: None, 3956: None, 3962: None, 3963: None, 3964: None, 3965: None, 3968: None, 3970: None, 3971: None, 3972: None, 3974: None, 3975: None, 4038: None, 4151: None, 4153: None, 4154: None, 4237: None, 4957: None, 4958: None, 4959: None, 5908: None, 5940: None, 6098: None, 6109: None, 6313: None, 6457: None, 6458: None, 6459: None, 6679: None, 6680: None, 6752: None, 6773: None, 6774: None, 6775: None, 6776: None, 6777: None, 6778: None, 6779: None, 6780: None, 6783: None, 6832: None, 6833: None, 6834: None, 6835: None, 6836: None, 6837: None, 6838: None, 6839: None, 6840: None, 6841: None, 6842: None, 6843: None, 6844: None, 6845: None, 6964: None, 6980: None, 7019: None, 7020: None, 7021: None, 7022: None, 7023: None, 7024: None, 7025: None, 7026: None, 7027: None, 7082: None, 7083: None, 7142: None, 7154: None, 7155: None, 7223: None, 7376: None, 7377: None, 7378: None, 7380: None, 7381: None, 7382: None, 7383: None, 7384: None, 7385: None, 7386: None, 7387: None, 7388: None, 7389: None, 7390: None, 7391: None, 7392: None, 7394: None, 7395: None, 7396: None, 7397: None, 7398: None, 7399: None, 7400: None, 7405: None, 7412: None, 7416: None, 7417: None, 7616: None, 7617: None, 7618: None, 7619: None, 7620: None, 7621: None, 7622: None, 7623: None, 7624: None, 7625: None, 7626: None, 7627: None, 7628: None, 7629: None, 7630: None, 7631: None, 7632: None, 7633: None, 7634: None, 7635: None, 7636: None, 7637: None, 7638: None, 7639: None, 7640: None, 7641: None, 7642: None, 7643: None, 7644: None, 7645: None, 7646: None, 7647: None, 7648: None, 7649: None, 7650: None, 7651: None, 7652: None, 7653: None, 7654: None, 7655: None, 7656: None, 7657: None, 7658: None, 7659: None, 7660: None, 7661: None, 7662: None, 7663: None, 7664: None, 7665: None, 7666: None, 7667: None, 7668: None, 7669: None, 7675: None, 7676: None, 7677: None, 7678: None, 7679: None, 8400: None, 8401: None, 8402: None, 8403: None, 8404: None, 8405: None, 8406: None, 8407: None, 8408: None, 8409: None, 8410: None, 8411: None, 8412: None, 8417: None, 8421: None, 8422: None, 8423: None, 8424: None, 8425: None, 8426: None, 8427: None, 8428: None, 8429: None, 8430: None, 8431: None, 8432: None, 11503: None, 11504: None, 11505: None, 11647: None, 11744: None, 11745: None, 11746: None, 11747: None, 11748: None, 11749: None, 11750: None, 11751: None, 11752: None, 11753: None, 11754: None, 11755: None, 11756: None, 11757: None, 11758: None, 11759: None, 11760: None, 11761: None, 11762: None, 11763: None, 11764: None, 11765: None, 11766: None, 11767: None, 11768: None, 11769: None, 11770: None, 11771: None, 11772: None, 11773: None, 11774: None, 11775: None, 12330: None, 12331: None, 12332: None, 12333: None, 12334: None, 12335: None, 12441: None, 12442: None, 42607: None, 42612: None, 42613: None, 42614: None, 42615: None, 42616: None, 42617: None, 42618: None, 42619: None, 42620: None, 42621: None, 42654: None, 42655: None, 42736: None, 42737: None, 43014: None, 43204: None, 43232: None, 43233: None, 43234: None, 43235: None, 43236: None, 43237: None, 43238: None, 43239: None, 43240: None, 43241: None, 43242: None, 43243: None, 43244: None, 43245: None, 43246: None, 43247: None, 43248: None, 43249: None, 43307: None, 43308: None, 43309: None, 43347: None, 43443: None, 43456: None, 43696: None, 43698: None, 43699: None, 43700: None, 43703: None, 43704: None, 43710: None, 43711: None, 43713: None, 43766: None, 44013: None, 64286: None, 65056: None, 65057: None, 65058: None, 65059: None, 65060: None, 65061: None, 65062: None, 65063: None, 65064: None, 65065: None, 65066: None, 65067: None, 65068: None, 65069: None, 65070: None, 65071: None, 66045: None, 66272: None, 66422: None, 66423: None, 66424: None, 66425: None, 66426: None, 68109: None, 68111: None, 68152: None, 68153: None, 68154: None, 68159: None, 68325: None, 68326: None, 69702: None, 69759: None, 69817: None, 69818: None, 69888: None, 69889: None, 69890: None, 69939: None, 69940: None, 70003: None, 70080: None, 70090: None, 70197: None, 70198: None, 70377: None, 70378: None, 70460: None, 70477: None, 70502: None, 70503: None, 70504: None, 70505: None, 70506: None, 70507: None, 70508: None, 70512: None, 70513: None, 70514: None, 70515: None, 70516: None, 70722: None, 70726: None, 70850: None, 70851: None, 71103: None, 71104: None, 71231: None, 71350: None, 71351: None, 71467: None, 72767: None, 92912: None, 92913: None, 92914: None, 92915: None, 92916: None, 92976: None, 92977: None, 92978: None, 92979: None, 92980: None, 92981: None, 92982: None, 113822: None, 119141: None, 119142: None, 119143: None, 119144: None, 119145: None, 119149: None, 119150: None, 119151: None, 119152: None, 119153: None, 119154: None, 119163: None, 119164: None, 119165: None, 119166: None, 119167: None, 119168: None, 119169: None, 119170: None, 119173: None, 119174: None, 119175: None, 119176: None, 119177: None, 119178: None, 119179: None, 119210: None, 119211: None, 119212: None, 119213: None, 119362: None, 119363: None, 119364: None, 122880: None, 122881: None, 122882: None, 122883: None, 122884: None, 122885: None, 122886: None, 122888: None, 122889: None, 122890: None, 122891: None, 122892: None, 122893: None, 122894: None, 122895: None, 122896: None, 122897: None, 122898: None, 122899: None, 122900: None, 122901: None, 122902: None, 122903: None, 122904: None, 122907: None, 122908: None, 122909: None, 122910: None, 122911: None, 122912: None, 122913: None, 122915: None, 122916: None, 122918: None, 122919: None, 122920: None, 122921: None, 122922: None, 125136: None, 125137: None, 125138: None, 125139: None, 125140: None, 125141: None, 125142: None, 125252: None, 125253: None, 125254: None, 125255: None, 125256: None, 125257: None, 125258: None}\n",
      "pýtĥöñ is awesome\n",
      "\n",
      "python is awesome\n",
      "\n"
     ]
    }
   ],
   "source": [
    "# As you can see here, whitespace characters such as \\t and \\f have been remapped \n",
    "# to a single space. The carriage return \\r has been deleted entirely.\n",
    "# You can take this remapping idea a step further and build much bigger tables. \n",
    "\n",
    "import unicodedata\n",
    "import sys\n",
    "cmb_chrs = dict.fromkeys(\n",
    "        c for c in range(sys.maxunicode) if unicodedata.combining(chr(c)))\n",
    "print(cmb_chrs)\n",
    "b = unicodedata.normalize('NFD', a)\n",
    "print(b)\n",
    "print(b.translate(cmb_chrs))"
   ]
  },
  {
   "cell_type": "code",
   "execution_count": 4,
   "metadata": {},
   "outputs": [
    {
     "name": "stdout",
     "output_type": "stream",
     "text": [
      "580\n",
      "123\n"
     ]
    }
   ],
   "source": [
    "# In this last example, a dictionary mapping every Unicode combining character\n",
    "# to None is created using the dict.fromkeys().\n",
    "\n",
    "# The original input is then normalized into a decomposed form using \n",
    "# unicodedata.normalize(). From there, the translate function is used to delete\n",
    "# all of the accents. Similar techniques can be used to remove other kinds of \n",
    "# characters (e.g., control characters, etc.).\n",
    "\n",
    "# As another example, here is a translation table that maps \n",
    "# all Unicode decimal digit characters to their equivalent in ASCII:\n",
    "\n",
    "digitmap = { \n",
    "        c: ord('0') + unicodedata.digit(chr(c)) for c in range(sys.maxunicode)\n",
    "        if unicodedata.category(chr(c)) == 'Nd'\n",
    "        }\n",
    "print(len(digitmap))\n",
    "# Arabic digits\n",
    "x = '\\u0661\\u0662\\u0663'\n",
    "print(x.translate(digitmap))"
   ]
  },
  {
   "cell_type": "code",
   "execution_count": 5,
   "metadata": {},
   "outputs": [
    {
     "name": "stdout",
     "output_type": "stream",
     "text": [
      "pýtĥöñ is awesome\n",
      "\n",
      "python is awesome\n",
      "\n"
     ]
    }
   ],
   "source": [
    "# Yet another technique for cleaning up text involves I/O decoding and encoding \n",
    "# func‐ tions. The idea here is to first do some preliminary cleanup of the text, \n",
    "# and then run it through a combination of encode() or decode() operations \n",
    "# to strip or alter it.\n",
    "print(b)\n",
    "b = unicodedata.normalize('NFD', a)\n",
    "print(b.encode('ascii', 'ignore').decode('ascii'))\n",
    "\n",
    "# Here the normalization process decomposed the original text into characters \n",
    "# along with separate combining characters. The subsequent ASCII encoding/decoding \n",
    "# simply dis‐ carded all of those characters in one fell swoop. Naturally, \n",
    "# this would only work if getting an ASCII representation was the final goal.\n",
    "\n",
    "# A major issue with sanitizing text can be runtime performance. As a general rule, \n",
    "# the simpler it is, the faster it will run. For simple replacements, \n",
    "# the str.replace() method is often the fastest approach—even \n",
    "# if you have to call it multiple times. For instance, to clean up whitespace,\n",
    "\n",
    "def clean_spaces(s):\n",
    "    s = s.replace('\\r', '') \n",
    "    s = s.replace('\\t', ' ') \n",
    "    s = s.replace('\\f', ' ') \n",
    "    return s"
   ]
  },
  {
   "cell_type": "code",
   "execution_count": 6,
   "metadata": {},
   "outputs": [],
   "source": [
    "# If you try it, you’ll find that it’s quite a bit faster than using translate() \n",
    "# or an approach using a regular expression.\n",
    "    \n",
    "# On the other hand, the translate() method is very fast if you need to perform \n",
    "# any kind of nontrivial character-to-character remapping or deletion.\n",
    "    \n",
    "# In the big picture, performance is something you will have to study further \n",
    "# in your particular application. Unfortunately, it’s impossible to suggest \n",
    "# one specific technique that works best for all cases, so try different approaches \n",
    "# and measure it."
   ]
  }
 ],
 "metadata": {
  "kernelspec": {
   "display_name": "Python 3",
   "language": "python",
   "name": "python3"
  },
  "language_info": {
   "codemirror_mode": {
    "name": "ipython",
    "version": 3
   },
   "file_extension": ".py",
   "mimetype": "text/x-python",
   "name": "python",
   "nbconvert_exporter": "python",
   "pygments_lexer": "ipython3",
   "version": "3.6.6"
  }
 },
 "nbformat": 4,
 "nbformat_minor": 2
}
