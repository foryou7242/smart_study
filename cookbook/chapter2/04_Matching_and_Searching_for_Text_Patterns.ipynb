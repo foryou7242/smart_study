{
 "cells": [
  {
   "cell_type": "code",
   "execution_count": 2,
   "metadata": {},
   "outputs": [
    {
     "data": {
      "text/plain": [
       "'\\nProblem\\nYou want to match or search text for a specific pattern.\\n'"
      ]
     },
     "execution_count": 2,
     "metadata": {},
     "output_type": "execute_result"
    }
   ],
   "source": [
    "#!/usr/bin/env python3\n",
    "# -*- coding: utf-8 -*-\n",
    "\"\"\"\n",
    "Created on Thu Oct  4 23:01:55 2018\n",
    "\n",
    "@author: sungyunlee\n",
    "\"\"\"\n",
    "\n",
    "'''\n",
    "Problem\n",
    "You want to match or search text for a specific pattern.\n",
    "'''"
   ]
  },
  {
   "cell_type": "code",
   "execution_count": 3,
   "metadata": {},
   "outputs": [
    {
     "name": "stdout",
     "output_type": "stream",
     "text": [
      "False\n",
      "True\n",
      "False\n",
      "10\n"
     ]
    }
   ],
   "source": [
    "# If the text you’re trying to match is a simple literal, \n",
    "# you can often just use the basic string methods, \n",
    "# such as str.find(), str.endswith(), str.startswith(), or similar. For example:\n",
    "\n",
    "text = 'yeah, but no, but yeah, but no, but yeah'\n",
    "# Exact match\n",
    "print(text == 'yeah')\n",
    "\n",
    "# Match at start or end\n",
    "print(text.startswith('yeah'))\n",
    "print(text.endswith('no'))\n",
    "\n",
    "# Search for the location of the first occurrence\n",
    "print(text.find('no'))"
   ]
  },
  {
   "cell_type": "code",
   "execution_count": 4,
   "metadata": {},
   "outputs": [
    {
     "name": "stdout",
     "output_type": "stream",
     "text": [
      "yes\n",
      "no\n"
     ]
    }
   ],
   "source": [
    "# suppose you want to match dates specified as digits, such as “11/27/2012.” \n",
    "text1 = '11/27/2012'\n",
    "text2 = 'Nov 27, 2012'\n",
    "import re\n",
    "# Simple matching: \\d+ means match one or more digits\n",
    "if re.match(r'\\d+/\\d+/\\d+', text1):\n",
    "    print('yes')\n",
    "else:\n",
    "    print('no')\n",
    "    \n",
    "if re.match(r'\\d+/\\d+/\\d+', text2):\n",
    "    print('yes')\n",
    "else:\n",
    "    print('no')\n",
    "    "
   ]
  },
  {
   "cell_type": "code",
   "execution_count": 5,
   "metadata": {},
   "outputs": [
    {
     "name": "stdout",
     "output_type": "stream",
     "text": [
      "yes\n",
      "no\n"
     ]
    }
   ],
   "source": [
    "# If you’re going to perform a lot of matches using the same pattern, \n",
    "# it usually pays to precompile the regular expression pattern \n",
    "# into a pattern object first.\n",
    "datepat = re.compile(r'\\d+/\\d+/\\d+')\n",
    "if datepat.match(text1):\n",
    "    print('yes')\n",
    "else:\n",
    "    print('no')\n",
    "    \n",
    "if datepat.match(text2):\n",
    "    print('yes')\n",
    "else:\n",
    "    print('no')"
   ]
  },
  {
   "cell_type": "code",
   "execution_count": 6,
   "metadata": {},
   "outputs": [
    {
     "name": "stdout",
     "output_type": "stream",
     "text": [
      "['11/27/2012', '3/13/2013']\n"
     ]
    }
   ],
   "source": [
    "# match() always tries to find the match at the start of a string. \n",
    "# If you want to search text for all occurrences of a pattern, \n",
    "# use the findall() method instead\n",
    "text = 'Today is 11/27/2012. PyCon starts 3/13/2013.'\n",
    "print(datepat.findall(text))"
   ]
  },
  {
   "cell_type": "code",
   "execution_count": 7,
   "metadata": {},
   "outputs": [
    {
     "name": "stdout",
     "output_type": "stream",
     "text": [
      "<_sre.SRE_Match object; span=(0, 10), match='11/27/2012'>\n",
      "11/27/2012\n",
      "11\n",
      "27\n",
      "2012\n",
      "('11', '27', '2012')\n",
      "Today is 11/27/2012. PyCon starts 3/13/2013.\n",
      "[('11', '27', '2012'), ('3', '13', '2013')]\n",
      "2012-11-27\n",
      "2013-3-13\n",
      "('11', '27', '2012')\n",
      "('3', '13', '2013')\n"
     ]
    }
   ],
   "source": [
    "# When defining regular expressions, it is common to introduce capture groups \n",
    "# by en‐ closing parts of the pattern in parentheses.\n",
    "datepat = re.compile(r'(\\d+)/(\\d+)/(\\d+)')\n",
    "\n",
    "# Capture groups often simplify subsequent processing of the matched text \n",
    "# because the contents of each group can be extracted individually. \n",
    "m = datepat.match('11/27/2012')\n",
    "print(m)\n",
    "\n",
    "# Extract the contents of each group\n",
    "print(m.group(0))\n",
    "print(m.group(1))\n",
    "print(m.group(2))\n",
    "print(m.group(3))\n",
    "print(m.groups())\n",
    "\n",
    "month, day, year = m.groups()\n",
    "# Find all matches (notice splitting into tuples)\n",
    "print(text)\n",
    "print(datepat.findall(text))\n",
    "\n",
    "for month, day, year in datepat.findall(text):\n",
    "    print('{}-{}-{}'.format(year, month, day))\n",
    "\n",
    "# The findall() method searches the text and finds all matches, \n",
    "# returning them as a list. If you want to find matches iteratively, \n",
    "# use the finditer() method instead\n",
    "for m in datepat.finditer(text):\n",
    "    print(m.groups())"
   ]
  },
  {
   "cell_type": "code",
   "execution_count": 8,
   "metadata": {},
   "outputs": [
    {
     "name": "stdout",
     "output_type": "stream",
     "text": [
      "<_sre.SRE_Match object; span=(0, 10), match='11/27/2012'>\n",
      "11/27/2012\n"
     ]
    },
    {
     "data": {
      "text/plain": [
       "<_sre.SRE_Match object; span=(0, 10), match='11/27/2012'>"
      ]
     },
     "execution_count": 8,
     "metadata": {},
     "output_type": "execute_result"
    }
   ],
   "source": [
    "# r'(\\d+)/(\\d+)/(\\d+)' '(\\\\d+)/(\\\\d+)/(\\\\d+)'.\n",
    "# Be aware that the match() method only checks the beginning of a string. \n",
    "# It’s possible that it will match things you aren’t expecting\n",
    "m = datepat.match('11/27/2012abcdef')\n",
    "print(m)\n",
    "print(m.group())\n",
    "# If you want an exact match, make sure the pattern includes the end-marker ($)\n",
    "datepat = re.compile(r'(\\d+)/(\\d+)/(\\d+)$')\n",
    "datepat.match('11/27/2012abcdef')\n",
    "datepat.match('11/27/2012')"
   ]
  },
  {
   "cell_type": "code",
   "execution_count": 9,
   "metadata": {},
   "outputs": [
    {
     "data": {
      "text/plain": [
       "[('11', '27', '2012'), ('3', '13', '2013')]"
      ]
     },
     "execution_count": 9,
     "metadata": {},
     "output_type": "execute_result"
    }
   ],
   "source": [
    "# you can often skip the compilation step and \n",
    "# use module-level functions in the re module instead\n",
    "re.findall(r'(\\d+)/(\\d+)/(\\d+)', text)"
   ]
  }
 ],
 "metadata": {
  "kernelspec": {
   "display_name": "Python 3",
   "language": "python",
   "name": "python3"
  },
  "language_info": {
   "codemirror_mode": {
    "name": "ipython",
    "version": 3
   },
   "file_extension": ".py",
   "mimetype": "text/x-python",
   "name": "python",
   "nbconvert_exporter": "python",
   "pygments_lexer": "ipython3",
   "version": "3.6.6"
  }
 },
 "nbformat": 4,
 "nbformat_minor": 2
}
