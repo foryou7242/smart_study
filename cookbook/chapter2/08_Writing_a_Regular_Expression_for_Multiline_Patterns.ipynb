{
 "cells": [
  {
   "cell_type": "code",
   "execution_count": 1,
   "metadata": {},
   "outputs": [
    {
     "data": {
      "text/plain": [
       "'\\nProblem\\nYou’re trying to match a block of text using a regular expression, \\nbut you need the match to span multiple lines.\\n'"
      ]
     },
     "execution_count": 1,
     "metadata": {},
     "output_type": "execute_result"
    }
   ],
   "source": [
    "#!/usr/bin/env python3\n",
    "# -*- coding: utf-8 -*-\n",
    "\"\"\"\n",
    "Created on Thu Oct 11 07:14:17 2018\n",
    "\n",
    "@author: sungyunlee\n",
    "\"\"\"\n",
    "\n",
    "'''\n",
    "Problem\n",
    "You’re trying to match a block of text using a regular expression, \n",
    "but you need the match to span multiple lines.\n",
    "'''"
   ]
  },
  {
   "cell_type": "code",
   "execution_count": 2,
   "metadata": {},
   "outputs": [
    {
     "name": "stdout",
     "output_type": "stream",
     "text": [
      "[' this is a comment ']\n",
      "[]\n"
     ]
    }
   ],
   "source": [
    "# This problem typically arises in patterns that use the dot (.) \n",
    "# to match any character but forget to account for the fact that \n",
    "# it doesn’t match newlines. For example, suppose you are trying \n",
    "# to match C-style comments:\n",
    "import re\n",
    "comment = re.compile(r'/\\*(.*?)\\*/')\n",
    "text1 = '/* this is a comment */'\n",
    "text2 = '''/* this is a  \n",
    "              multiline comment */ \n",
    "'''\n",
    "\n",
    "print(comment.findall(text1))\n",
    "print(comment.findall(text2))"
   ]
  },
  {
   "cell_type": "code",
   "execution_count": 3,
   "metadata": {},
   "outputs": [
    {
     "name": "stdout",
     "output_type": "stream",
     "text": [
      "[' this is a  \\n              multiline comment ']\n"
     ]
    }
   ],
   "source": [
    "# To fix the problem, you can add support for newlines.\n",
    "comment = re.compile(r'/\\*((?:.|\\n)*?)\\*/')\n",
    "print(comment.findall(text2))\n",
    "\n",
    "# (?:.|\\n) specifies a noncapture group \n",
    "# (i.e., it defines a group for the purposes of matching, \n",
    "# but that group is not captured separately or numbered)."
   ]
  },
  {
   "cell_type": "code",
   "execution_count": 4,
   "metadata": {},
   "outputs": [
    {
     "name": "stdout",
     "output_type": "stream",
     "text": [
      "[' this is a  \\n              multiline comment ']\n"
     ]
    }
   ],
   "source": [
    "# The re.compile() function accepts a flag, re.DOTALL, which is useful here. \n",
    "# It makes the . in a regular expression match all characters, including newlines. \n",
    "comment = re.compile(r'/\\*(.*?)\\*/', re.DOTALL)\n",
    "print(comment.findall(text2))"
   ]
  }
 ],
 "metadata": {
  "kernelspec": {
   "display_name": "Python 3",
   "language": "python",
   "name": "python3"
  },
  "language_info": {
   "codemirror_mode": {
    "name": "ipython",
    "version": 3
   },
   "file_extension": ".py",
   "mimetype": "text/x-python",
   "name": "python",
   "nbconvert_exporter": "python",
   "pygments_lexer": "ipython3",
   "version": "3.6.6"
  }
 },
 "nbformat": 4,
 "nbformat_minor": 2
}
