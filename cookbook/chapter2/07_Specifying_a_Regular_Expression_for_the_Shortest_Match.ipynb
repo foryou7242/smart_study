{
 "cells": [
  {
   "cell_type": "code",
   "execution_count": null,
   "metadata": {},
   "outputs": [],
   "source": [
    "#!/usr/bin/env python3\n",
    "# -*- coding: utf-8 -*-\n",
    "\"\"\"\n",
    "Created on Thu Oct 11 00:16:23 2018\n",
    "\n",
    "@author: sungyunlee\n",
    "\"\"\"\n",
    "\n",
    "'''\n",
    "Problem\n",
    "You’re trying to match a text pattern using regular expressions, \n",
    "but it is identifying the longest possible matches of a pattern. \n",
    "Instead, you would like to change it to find the shortest possible match.\n",
    "'''"
   ]
  },
  {
   "cell_type": "code",
   "execution_count": null,
   "metadata": {},
   "outputs": [],
   "source": [
    "# This problem often arises in patterns that try to match text enclosed \n",
    "# inside a pair of starting and ending delimiters (e.g., a quoted string). \n",
    "import re\n",
    "str_pat = re.compile(r'\\\"(.*)\\\"') \n",
    "text1 = 'Computer says \"no.\"'\n",
    "print(str_pat.findall(text1))\n",
    "text2 = 'Computer says \"no.\" Phone says \"yes.\"'\n",
    "print(str_pat.findall(text2))"
   ]
  },
  {
   "cell_type": "code",
   "execution_count": null,
   "metadata": {},
   "outputs": [],
   "source": [
    "# the pattern r'\\\"(.*)\\\"' is attempting to match text enclosed inside quotes. \n",
    "# However, the * operator in a regular expression is greedy, \n",
    "# so matching is based on finding the longest possible match. \n",
    "# Thus, in the second example involving text2, \n",
    "# it incorrectly matches the two quoted strings.\n",
    "\n",
    "# To fix this, add the ? modifier after the * operator in the pattern\n",
    "str_pat = re.compile(r'\\\"(.*?)\\\"')\n",
    "print(str_pat.findall(text2))"
   ]
  },
  {
   "cell_type": "code",
   "execution_count": null,
   "metadata": {},
   "outputs": [],
   "source": [
    "# This makes the matching nongreedy, and produces the shortest match instead.\n",
    "\n",
    "# This recipe addresses one of the more common problems encountered \n",
    "# when writing regular expressions involving the dot (.) character. \n",
    "\n",
    "# the dot matches any character except a newline.\n",
    "\n",
    "# if you bracket the dot with starting and ending text (such as a quote), \n",
    "# matching will try to find the longest possible match to the pattern.\n",
    "# This causes multiple occurrences of the starting or ending text \n",
    "# to be skipped altogether and included in the results of the longer match\n",
    "\n",
    "# Adding the ? right after operators such as * or + forces \n",
    "# the matching algorithm to look for the shortest possible match instead"
   ]
  }
 ],
 "metadata": {
  "kernelspec": {
   "display_name": "Python 3",
   "language": "python",
   "name": "python3"
  },
  "language_info": {
   "codemirror_mode": {
    "name": "ipython",
    "version": 3
   },
   "file_extension": ".py",
   "mimetype": "text/x-python",
   "name": "python",
   "nbconvert_exporter": "python",
   "pygments_lexer": "ipython3",
   "version": "3.6.6"
  }
 },
 "nbformat": 4,
 "nbformat_minor": 2
}
