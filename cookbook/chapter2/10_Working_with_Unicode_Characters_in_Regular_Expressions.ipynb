{
 "cells": [
  {
   "cell_type": "code",
   "execution_count": 1,
   "metadata": {},
   "outputs": [
    {
     "data": {
      "text/plain": [
       "'\\nProblem\\nYou are using regular expressions to process text, but are concerned about \\nthe handling of Unicode characters.\\n'"
      ]
     },
     "execution_count": 1,
     "metadata": {},
     "output_type": "execute_result"
    }
   ],
   "source": [
    "#!/usr/bin/env python3\n",
    "# -*- coding: utf-8 -*-\n",
    "\"\"\"\n",
    "Created on Fri Oct 12 23:20:16 2018\n",
    "\n",
    "@author: sungyunlee\n",
    "\"\"\"\n",
    "\n",
    "'''\n",
    "Problem\n",
    "You are using regular expressions to process text, but are concerned about \n",
    "the handling of Unicode characters.\n",
    "'''"
   ]
  },
  {
   "cell_type": "code",
   "execution_count": 2,
   "metadata": {},
   "outputs": [
    {
     "name": "stdout",
     "output_type": "stream",
     "text": [
      "<_sre.SRE_Match object; span=(0, 3), match='123'>\n",
      "<_sre.SRE_Match object; span=(0, 3), match='١٢٣'>\n"
     ]
    }
   ],
   "source": [
    "# By default, the re module is already programmed with rudimentary knowledge \n",
    "# of cer‐ tain Unicode character classes. For example, \\d already matches \n",
    "# any unicode digit character\n",
    "\n",
    "import re\n",
    "num = re.compile('\\d+')\n",
    "# ASCII digits\n",
    "print(num.match('123'))\n",
    "# Arabic digits\n",
    "print(num.match('\\u0661\\u0662\\u0663'))"
   ]
  },
  {
   "cell_type": "code",
   "execution_count": 3,
   "metadata": {},
   "outputs": [
    {
     "name": "stdout",
     "output_type": "stream",
     "text": [
      "re.compile('[\\u0600-ۿݐ-ݿࢠ-ࣿ]+')\n",
      "None\n"
     ]
    }
   ],
   "source": [
    "# If you need to include specific Unicode characters in patterns, \n",
    "# you can use the usual escape sequence for Unicode characters \n",
    "# (e.g., \\uFFFF or \\UFFFFFFF). For example, here is a regex that matches \n",
    "# all characters in a few different Arabic code pages\n",
    "\n",
    "arabic = re.compile('[\\u0600-\\u06ff\\u0750-\\u077f\\u08a0-\\u08ff]+')\n",
    "print(arabic)\n",
    "print(arabic.match('123'))"
   ]
  },
  {
   "cell_type": "code",
   "execution_count": 4,
   "metadata": {},
   "outputs": [
    {
     "name": "stdout",
     "output_type": "stream",
     "text": [
      "<_sre.SRE_Match object; span=(0, 6), match='straße'>\n",
      "None\n",
      "STRASSE\n"
     ]
    }
   ],
   "source": [
    "# When performing matching and searching operations, \n",
    "# it’s a good idea to normalize and possibly sanitize all text to a standard form \n",
    "# first (see Recipe 2.9). However, it’s also important to be aware of special cases. \n",
    "# For example, consider the behavior of case- insensitive matching combined with \n",
    "# case folding\n",
    "\n",
    "pat = re.compile('stra\\u00dfe', re.IGNORECASE)\n",
    "s = 'straße'\n",
    "print(pat.match(s)) # Matches\n",
    "print(pat.match(s.upper())) # Doesn't match\n",
    "print(s.upper()) # Case folds"
   ]
  },
  {
   "cell_type": "code",
   "execution_count": 5,
   "metadata": {},
   "outputs": [],
   "source": [
    "# Mixing Unicode and regular expressions is often a good way to make your head explode. \n",
    "# If you’re going to do it seriously, you should consider installing \n",
    "# the third-party regex library, which provides full support for Unicode case folding,\n",
    "# as well as a variety of other interesting features, including approximate matching"
   ]
  }
 ],
 "metadata": {
  "kernelspec": {
   "display_name": "Python 3",
   "language": "python",
   "name": "python3"
  },
  "language_info": {
   "codemirror_mode": {
    "name": "ipython",
    "version": 3
   },
   "file_extension": ".py",
   "mimetype": "text/x-python",
   "name": "python",
   "nbconvert_exporter": "python",
   "pygments_lexer": "ipython3",
   "version": "3.6.6"
  }
 },
 "nbformat": 4,
 "nbformat_minor": 2
}
