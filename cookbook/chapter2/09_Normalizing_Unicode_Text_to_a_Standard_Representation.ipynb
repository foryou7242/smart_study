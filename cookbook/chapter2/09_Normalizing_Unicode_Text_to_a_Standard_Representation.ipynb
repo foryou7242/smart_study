{
 "cells": [
  {
   "cell_type": "code",
   "execution_count": 1,
   "metadata": {},
   "outputs": [
    {
     "data": {
      "text/plain": [
       "'\\nProblem\\nYou’re working with Unicode strings, but need to make sure that \\nall of the strings have the same underlying representation.\\n'"
      ]
     },
     "execution_count": 1,
     "metadata": {},
     "output_type": "execute_result"
    }
   ],
   "source": [
    "#!/usr/bin/env python3\n",
    "# -*- coding: utf-8 -*-\n",
    "\"\"\"\n",
    "Created on Fri Oct 12 09:33:21 2018\n",
    "\n",
    "@author: sungyunlee\n",
    "\"\"\"\n",
    "\n",
    "'''\n",
    "Problem\n",
    "You’re working with Unicode strings, but need to make sure that \n",
    "all of the strings have the same underlying representation.\n",
    "'''"
   ]
  },
  {
   "cell_type": "code",
   "execution_count": 2,
   "metadata": {},
   "outputs": [
    {
     "name": "stdout",
     "output_type": "stream",
     "text": [
      "Spicy Jalapeño\n",
      "Spicy Jalapeño\n",
      "False\n",
      "14\n",
      "15\n"
     ]
    }
   ],
   "source": [
    "# In Unicode, certain characters can be represented \n",
    "# by more than one valid sequence of code points.\n",
    "\n",
    "s1 = 'Spicy Jalape\\u00f1o'\n",
    "s2 = 'Spicy Jalapen\\u0303o'\n",
    "print(s1)\n",
    "print(s2)\n",
    "\n",
    "print(s1 == s2)\n",
    "print(len(s1))\n",
    "print(len(s2))"
   ]
  },
  {
   "cell_type": "code",
   "execution_count": 3,
   "metadata": {},
   "outputs": [
    {
     "name": "stdout",
     "output_type": "stream",
     "text": [
      "True\n",
      "'Spicy Jalape\\xf1o'\n",
      "True\n",
      "'Spicy Jalapen\\u0303o'\n"
     ]
    }
   ],
   "source": [
    "# Here the text “Spicy Jalapeño” has been presented in two forms. \n",
    "# The first uses the fully composed “ñ” character (U+00F1). \n",
    "# The second uses the Latin letter “n” followed by a “~” combining character (U+0303).\n",
    "\n",
    "# Having multiple representations is a problem for programs that compare strings. \n",
    "# In order to fix this, you should first normalize the text into a standard representation\n",
    "# using the unicodedata module\n",
    "\n",
    "import unicodedata\n",
    "t1 = unicodedata.normalize('NFC', s1)\n",
    "t2 = unicodedata.normalize('NFC', s2)\n",
    "print(t1 == t2)\n",
    "print(ascii(t1))\n",
    "\n",
    "t3 = unicodedata.normalize('NFD', s1)\n",
    "t4 = unicodedata.normalize('NFD', s2)\n",
    "print(t3 == t4)\n",
    "print(ascii(t3))"
   ]
  },
  {
   "cell_type": "code",
   "execution_count": 4,
   "metadata": {},
   "outputs": [
    {
     "name": "stdout",
     "output_type": "stream",
     "text": [
      "ﬁ\n",
      "ﬁ\n",
      "fi\n",
      "fi\n"
     ]
    }
   ],
   "source": [
    "# The first argument to normalize() specifies how you want the string normalized. \n",
    "# NFC means that characters should be fully composed \n",
    "# (i.e., use a single code point if possible). \n",
    "# NFD means that characters should be fully decomposed with the use of combining char‐ acters.\n",
    "\n",
    "# Python also supports the normalization forms NFKC and NFKD, \n",
    "# which add extra com‐ patibility features for dealing with certain kinds of characters\n",
    "\n",
    "s = '\\ufb01' # A single character\n",
    "print(s)\n",
    "print(unicodedata.normalize('NFD', s))\n",
    "print(unicodedata.normalize('NFKD', s))\n",
    "print(unicodedata.normalize('NFKC', s))"
   ]
  },
  {
   "cell_type": "code",
   "execution_count": 5,
   "metadata": {},
   "outputs": [
    {
     "name": "stdout",
     "output_type": "stream",
     "text": [
      "Spicy Jalapeno\n"
     ]
    }
   ],
   "source": [
    "# Normalization is an important part of any code that needs to ensure \n",
    "# that it processes Unicode text in a sane and consistent way. \n",
    "# This is especially true when processing strings received \n",
    "# as part of user input where you have little control of the encoding.\n",
    "\n",
    "# Normalization can also be an important part of sanitizing and filtering text. \n",
    "# For example, suppose you want to remove all diacritical marks from some text \n",
    "# (possibly for the pur‐ poses of searching or matching):\n",
    "\n",
    "t1 = unicodedata.normalize('NFD', s1)\n",
    "print(''.join(c for c in t1 if not unicodedata.combining(c)))"
   ]
  },
  {
   "cell_type": "code",
   "execution_count": 6,
   "metadata": {},
   "outputs": [],
   "source": [
    "# This last example shows another important aspect of the unicodedata module—namely, \n",
    "# utility functions for testing characters against character classes. \n",
    "# The combining() func‐ tion tests a character to see if it is a combining character. \n",
    "# There are other functions in the module for finding character categories, \n",
    "# testing digits, and so forth.\n",
    "\n",
    "# Unicode is obviously a large topic. For more detailed reference information \n",
    "# about nor‐ malization, visit Unicode’s page on the subject. \n",
    "# Ned Batchelder has also given an excel‐ lent presentation \n",
    "# on Python Unicode handling issues at his website."
   ]
  }
 ],
 "metadata": {
  "kernelspec": {
   "display_name": "Python 3",
   "language": "python",
   "name": "python3"
  },
  "language_info": {
   "codemirror_mode": {
    "name": "ipython",
    "version": 3
   },
   "file_extension": ".py",
   "mimetype": "text/x-python",
   "name": "python",
   "nbconvert_exporter": "python",
   "pygments_lexer": "ipython3",
   "version": "3.6.6"
  }
 },
 "nbformat": 4,
 "nbformat_minor": 2
}
