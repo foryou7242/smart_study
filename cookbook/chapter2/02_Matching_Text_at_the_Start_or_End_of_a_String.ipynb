{
 "cells": [
  {
   "cell_type": "code",
   "execution_count": 1,
   "metadata": {},
   "outputs": [
    {
     "data": {
      "text/plain": [
       "'\\nProblem\\nYou need to check the start or end of a string for specific text patterns, \\nsuch as filename extensions, URL schemes, and so on.\\n'"
      ]
     },
     "execution_count": 1,
     "metadata": {},
     "output_type": "execute_result"
    }
   ],
   "source": [
    "#!/usr/bin/env python3\n",
    "# -*- coding: utf-8 -*-\n",
    "\"\"\"\n",
    "Created on Sun Sep 16 23:41:35 2018\n",
    "\n",
    "@author: sungyunlee\n",
    "\"\"\"\n",
    "\n",
    "'''\n",
    "Problem\n",
    "You need to check the start or end of a string for specific text patterns, \n",
    "such as filename extensions, URL schemes, and so on.\n",
    "'''"
   ]
  },
  {
   "cell_type": "code",
   "execution_count": 2,
   "metadata": {},
   "outputs": [
    {
     "name": "stdout",
     "output_type": "stream",
     "text": [
      "True\n",
      "False\n",
      "True\n"
     ]
    }
   ],
   "source": [
    "# A simple way to check the beginning or \n",
    "# end of a string is to use the str.starts with() or str.endswith() methods. \n",
    "\n",
    "filename = 'spam.txt'\n",
    "print(filename.endswith('.txt'))\n",
    "print(filename.startswith('file:'))\n",
    "url = 'http://www.python.org'\n",
    "print(url.startswith('http:'))"
   ]
  },
  {
   "cell_type": "code",
   "execution_count": 3,
   "metadata": {},
   "outputs": [
    {
     "name": "stdout",
     "output_type": "stream",
     "text": [
      "['02_Matching_Text_at_the_Start_or_End_of_a_String.py', '02_Matching_Text_at_the_Start_or_End_of_a_String.ipynb', '01_Splitting_Strings_on_Any_of_Multiple_Delimiters.ipynb', '.ipynb_checkpoints', '01_Splitting_Strings_on_Any_of_Multiple_Delimiters.py']\n",
      "['02_Matching_Text_at_the_Start_or_End_of_a_String.py', '02_Matching_Text_at_the_Start_or_End_of_a_String.ipynb', '01_Splitting_Strings_on_Any_of_Multiple_Delimiters.ipynb', '01_Splitting_Strings_on_Any_of_Multiple_Delimiters.py']\n",
      "True\n"
     ]
    }
   ],
   "source": [
    "# If you need to check against multiple choices, \n",
    "# simply provide a tuple of possibilities to startswith() or endswith():\n",
    "\n",
    "import os\n",
    "filenames = os.listdir('.')\n",
    "print(filenames)\n",
    "tmp = [name for name in filenames if name.endswith(('.py', '.ipynb')) ]\n",
    "print(tmp)\n",
    "tmp = any(name.endswith('.py') for name in filenames)\n",
    "print(tmp)\n",
    "\n",
    "from urllib.request import urlopen\n",
    "def read_data(name):\n",
    "    if name.startswith(('http:', 'https:', 'ftp:')):\n",
    "        return urlopen(name).read() \n",
    "    else:\n",
    "        with open(name) as f: return f.read()"
   ]
  },
  {
   "cell_type": "code",
   "execution_count": 4,
   "metadata": {},
   "outputs": [
    {
     "ename": "TypeError",
     "evalue": "startswith first arg must be str or a tuple of str, not list",
     "output_type": "error",
     "traceback": [
      "\u001b[0;31m---------------------------------------------------------------------------\u001b[0m",
      "\u001b[0;31mTypeError\u001b[0m                                 Traceback (most recent call last)",
      "\u001b[0;32m<ipython-input-4-061c457a2d89>\u001b[0m in \u001b[0;36m<module>\u001b[0;34m()\u001b[0m\n\u001b[1;32m      4\u001b[0m \u001b[0mchoices\u001b[0m \u001b[0;34m=\u001b[0m \u001b[0;34m[\u001b[0m\u001b[0;34m'http:'\u001b[0m\u001b[0;34m,\u001b[0m \u001b[0;34m'ftp:'\u001b[0m\u001b[0;34m]\u001b[0m\u001b[0;34m\u001b[0m\u001b[0m\n\u001b[1;32m      5\u001b[0m \u001b[0murl\u001b[0m \u001b[0;34m=\u001b[0m \u001b[0;34m'http://www.python.org'\u001b[0m\u001b[0;34m\u001b[0m\u001b[0m\n\u001b[0;32m----> 6\u001b[0;31m \u001b[0murl\u001b[0m\u001b[0;34m.\u001b[0m\u001b[0mstartswith\u001b[0m\u001b[0;34m(\u001b[0m\u001b[0mchoices\u001b[0m\u001b[0;34m)\u001b[0m\u001b[0;34m\u001b[0m\u001b[0m\n\u001b[0m",
      "\u001b[0;31mTypeError\u001b[0m: startswith first arg must be str or a tuple of str, not list"
     ]
    }
   ],
   "source": [
    "# If you happen to have the choices specified in a list or set, \n",
    "# just make sure you convert them using tuple() first       \n",
    "        \n",
    "choices = ['http:', 'ftp:']\n",
    "url = 'http://www.python.org'\n",
    "url.startswith(choices)"
   ]
  },
  {
   "cell_type": "code",
   "execution_count": 5,
   "metadata": {},
   "outputs": [
    {
     "name": "stdout",
     "output_type": "stream",
     "text": [
      "True\n",
      "True\n"
     ]
    }
   ],
   "source": [
    "# Similar operations can be performed with slices\n",
    "\n",
    "filename = 'spam.txt'\n",
    "print(filename[-4:] == '.txt')\n",
    "url = 'http://www.python.org'\n",
    "print(url[:5] == 'http:' or url[:6] == 'https:' or url[:4] == 'ftp:')"
   ]
  },
  {
   "cell_type": "code",
   "execution_count": 6,
   "metadata": {},
   "outputs": [
    {
     "name": "stdout",
     "output_type": "stream",
     "text": [
      "<_sre.SRE_Match object; span=(0, 5), match='http:'>\n"
     ]
    }
   ],
   "source": [
    "# You might also be inclined to use regular expressions as an alternative\n",
    "\n",
    "import re\n",
    "url = 'http://www.python.org'\n",
    "tmp = re.match('http:|https:|ftp:', url)\n",
    "print(tmp)"
   ]
  }
 ],
 "metadata": {
  "kernelspec": {
   "display_name": "Python 3",
   "language": "python",
   "name": "python3"
  },
  "language_info": {
   "codemirror_mode": {
    "name": "ipython",
    "version": 3
   },
   "file_extension": ".py",
   "mimetype": "text/x-python",
   "name": "python",
   "nbconvert_exporter": "python",
   "pygments_lexer": "ipython3",
   "version": "3.6.6"
  }
 },
 "nbformat": 4,
 "nbformat_minor": 2
}
