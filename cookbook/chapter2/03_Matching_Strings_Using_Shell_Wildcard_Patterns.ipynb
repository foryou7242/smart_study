{
 "cells": [
  {
   "cell_type": "code",
   "execution_count": 1,
   "metadata": {},
   "outputs": [
    {
     "data": {
      "text/plain": [
       "'\\nProblem\\nYou want to match text using the same wildcard patterns \\nas are commonly used when working in Unix shells \\n(e.g., *.py, Dat[0-9]*.csv, etc.).\\n'"
      ]
     },
     "execution_count": 1,
     "metadata": {},
     "output_type": "execute_result"
    }
   ],
   "source": [
    "#!/usr/bin/env python3\n",
    "# -*- coding: utf-8 -*-\n",
    "\"\"\"\n",
    "Created on Mon Sep 17 00:19:53 2018\n",
    "\n",
    "@author: sungyunlee\n",
    "\"\"\"\n",
    "'''\n",
    "Problem\n",
    "You want to match text using the same wildcard patterns \n",
    "as are commonly used when working in Unix shells \n",
    "(e.g., *.py, Dat[0-9]*.csv, etc.).\n",
    "'''"
   ]
  },
  {
   "cell_type": "code",
   "execution_count": 2,
   "metadata": {},
   "outputs": [
    {
     "name": "stdout",
     "output_type": "stream",
     "text": [
      "True\n",
      "True\n",
      "True\n",
      "['Dat1.csv', 'Dat2.csv']\n"
     ]
    }
   ],
   "source": [
    "# The fnmatch module provides two functions—fnmatch() and \n",
    "# fnmatchcase()—that can be used to perform such matching. \n",
    "\n",
    "from fnmatch import fnmatch, fnmatchcase\n",
    "print(fnmatch('foo.txt', '*.txt'))\n",
    "print(fnmatch('foo.txt', '?oo.txt'))\n",
    "print(fnmatch('Dat45.csv', 'Dat[0-9]*'))\n",
    "names = ['Dat1.csv', 'Dat2.csv', 'config.ini', 'foo.py']\n",
    "print([name for name in names if fnmatch(name, 'Dat*.csv')])"
   ]
  },
  {
   "cell_type": "code",
   "execution_count": 3,
   "metadata": {},
   "outputs": [
    {
     "name": "stdout",
     "output_type": "stream",
     "text": [
      "False\n",
      "False\n"
     ]
    }
   ],
   "source": [
    "# fnmatch() matches patterns using the same case-sensitivity rules as \n",
    "# the sys‐ tem’s underlying filesystem (which varies based on operating system)\n",
    "\n",
    "# On OS X (Mac)\n",
    "print(fnmatch('foo.txt', '*.TXT'))\n",
    "# On Windows\n",
    "print(fnmatch('foo.txt', '*.TXT'))"
   ]
  },
  {
   "cell_type": "code",
   "execution_count": 4,
   "metadata": {},
   "outputs": [
    {
     "name": "stdout",
     "output_type": "stream",
     "text": [
      "False\n"
     ]
    }
   ],
   "source": [
    "# If this distinction matters, use fnmatchcase() instead. \n",
    "# It matches exactly based on the lower- and uppercase conventions that you supply:\n",
    "\n",
    "print(fnmatchcase('foo.txt', '*.TXT'))"
   ]
  },
  {
   "cell_type": "code",
   "execution_count": 5,
   "metadata": {},
   "outputs": [
    {
     "name": "stdout",
     "output_type": "stream",
     "text": [
      "['5412 N CLARK ST', '1060 W ADDISON ST', '2122 N CLARK ST']\n",
      "['5412 N CLARK ST']\n"
     ]
    }
   ],
   "source": [
    "# An often overlooked feature of these functions is their potential use \n",
    "# with data processing of nonfilename strings\n",
    "from fnmatch import fnmatchcase\n",
    "addresses = [\n",
    "        '5412 N CLARK ST',\n",
    "        '1060 W ADDISON ST',\n",
    "        '1039 W GRANVILLE AVE',\n",
    "        '2122 N CLARK ST',\n",
    "        '4802 N BROADWAY',\n",
    "]\n",
    "tmp1 = [addr for addr in addresses if fnmatchcase(addr, '* ST')]\n",
    "print(tmp1)\n",
    "tmp2 = [addr for addr in addresses if fnmatchcase(addr, '54[0-9][0-9] *CLARK*')]\n",
    "print(tmp2)"
   ]
  }
 ],
 "metadata": {
  "kernelspec": {
   "display_name": "Python 3",
   "language": "python",
   "name": "python3"
  },
  "language_info": {
   "codemirror_mode": {
    "name": "ipython",
    "version": 3
   },
   "file_extension": ".py",
   "mimetype": "text/x-python",
   "name": "python",
   "nbconvert_exporter": "python",
   "pygments_lexer": "ipython3",
   "version": "3.6.6"
  }
 },
 "nbformat": 4,
 "nbformat_minor": 2
}
