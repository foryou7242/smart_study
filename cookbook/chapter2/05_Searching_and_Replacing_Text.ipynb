{
 "cells": [
  {
   "cell_type": "code",
   "execution_count": 1,
   "metadata": {},
   "outputs": [
    {
     "data": {
      "text/plain": [
       "'\\nProblem\\nYou want to search for and replace a text pattern in a string.\\n'"
      ]
     },
     "execution_count": 1,
     "metadata": {},
     "output_type": "execute_result"
    }
   ],
   "source": [
    "#!/usr/bin/env python3\n",
    "# -*- coding: utf-8 -*-\n",
    "\"\"\"\n",
    "Created on Wed Oct 10 23:37:59 2018\n",
    "\n",
    "@author: sungyunlee\n",
    "\"\"\"\n",
    "\n",
    "'''\n",
    "Problem\n",
    "You want to search for and replace a text pattern in a string.\n",
    "'''"
   ]
  },
  {
   "cell_type": "code",
   "execution_count": 2,
   "metadata": {},
   "outputs": [
    {
     "name": "stdout",
     "output_type": "stream",
     "text": [
      "yep, but no, but yep, but no, but yep\n"
     ]
    }
   ],
   "source": [
    "# For simple literal patterns, use the str.replace() method.\n",
    "\n",
    "text = 'yeah, but no, but yeah, but no, but yeah'\n",
    "print(text.replace('yeah', 'yep'))"
   ]
  },
  {
   "cell_type": "code",
   "execution_count": 3,
   "metadata": {},
   "outputs": [
    {
     "name": "stdout",
     "output_type": "stream",
     "text": [
      "Today is 2012-11-27. PyCon starts 2013-3-13.\n"
     ]
    }
   ],
   "source": [
    "# For more complicated patterns, \n",
    "# use the sub() functions/methods in the re module. To illustrate, \n",
    "# suppose you want to rewrite dates of the form “11/27/2012” as “2012-11-27.”\n",
    "# The first argument to sub() is the pattern to match and \n",
    "# the second argument is the replacement pattern. \n",
    "# Backslashed digits such as \\3 refer to capture group numbers in the pattern.\n",
    "\n",
    "text = 'Today is 11/27/2012. PyCon starts 3/13/2013.' \n",
    "import re\n",
    "print(re.sub(r'(\\d+)/(\\d+)/(\\d+)', r'\\3-\\1-\\2', text))"
   ]
  },
  {
   "cell_type": "code",
   "execution_count": 4,
   "metadata": {},
   "outputs": [
    {
     "data": {
      "text/plain": [
       "'Today is 2012-11-27. PyCon starts 2013-3-13.'"
      ]
     },
     "execution_count": 4,
     "metadata": {},
     "output_type": "execute_result"
    }
   ],
   "source": [
    "# If you’re going to perform repeated substitutions of the same pattern, \n",
    "# consider compil‐ ing it first for better performance.\n",
    "import re\n",
    "datepat = re.compile(r'(\\d+)/(\\d+)/(\\d+)')\n",
    "datepat.sub(r'\\3-\\1-\\2', text)"
   ]
  },
  {
   "cell_type": "code",
   "execution_count": 5,
   "metadata": {},
   "outputs": [
    {
     "name": "stdout",
     "output_type": "stream",
     "text": [
      "Today is 27 Nov 2012. PyCon starts 13 Mar 2013.\n"
     ]
    }
   ],
   "source": [
    "# For more complicated substitutions, \n",
    "# it’s possible to specify a substitution callback func‐tion instead. \n",
    "# As input, the argument to the substitution callback is a match object, \n",
    "# as returned by match() or find(). \n",
    "# Use the .group() method to extract specific parts of the match. \n",
    "\n",
    "from calendar import month_abbr\n",
    "def change_date(m):\n",
    "    mon_name = month_abbr[int(m.group(1))]\n",
    "    return '{} {} {}'.format(m.group(2), mon_name, m.group(3))\n",
    "\n",
    "print(datepat.sub(change_date, text))"
   ]
  },
  {
   "cell_type": "code",
   "execution_count": 6,
   "metadata": {},
   "outputs": [
    {
     "name": "stdout",
     "output_type": "stream",
     "text": [
      "Today is 2012-11-27. PyCon starts 2013-3-13.\n",
      "2\n"
     ]
    }
   ],
   "source": [
    "# If you want to know how many substitutions were made \n",
    "# in addition to getting the replacement text, use re.subn() instead\n",
    "newtext, n = datepat.subn(r'\\3-\\1-\\2', text)\n",
    "print(newtext)\n",
    "print(n)"
   ]
  }
 ],
 "metadata": {
  "kernelspec": {
   "display_name": "Python 3",
   "language": "python",
   "name": "python3"
  },
  "language_info": {
   "codemirror_mode": {
    "name": "ipython",
    "version": 3
   },
   "file_extension": ".py",
   "mimetype": "text/x-python",
   "name": "python",
   "nbconvert_exporter": "python",
   "pygments_lexer": "ipython3",
   "version": "3.6.6"
  }
 },
 "nbformat": 4,
 "nbformat_minor": 2
}
