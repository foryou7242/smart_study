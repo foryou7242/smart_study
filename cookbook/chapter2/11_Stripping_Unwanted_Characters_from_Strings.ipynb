{
 "cells": [
  {
   "cell_type": "code",
   "execution_count": 1,
   "metadata": {},
   "outputs": [
    {
     "data": {
      "text/plain": [
       "'\\nProblem\\nYou want to strip unwanted characters, such as whitespace, from the beginning, \\nend, or middle of a text string.\\n'"
      ]
     },
     "execution_count": 1,
     "metadata": {},
     "output_type": "execute_result"
    }
   ],
   "source": [
    "#!/usr/bin/env python3\n",
    "# -*- coding: utf-8 -*-\n",
    "\"\"\"\n",
    "Created on Fri Oct 12 23:58:47 2018\n",
    "\n",
    "@author: sungyunlee\n",
    "\"\"\"\n",
    "\n",
    "'''\n",
    "Problem\n",
    "You want to strip unwanted characters, such as whitespace, from the beginning, \n",
    "end, or middle of a text string.\n",
    "'''"
   ]
  },
  {
   "cell_type": "code",
   "execution_count": 2,
   "metadata": {},
   "outputs": [
    {
     "name": "stdout",
     "output_type": "stream",
     "text": [
      "hello world\n",
      "hello world \n",
      "\n",
      " hello world\n",
      "hello=====\n",
      "hello\n"
     ]
    }
   ],
   "source": [
    "# The strip() method can be used to strip characters from the beginning or \n",
    "# end of a string. lstrip() and rstrip() perform stripping from the left or right side, \n",
    "# respectively. By default, these methods strip whitespace, but \n",
    "# other characters can be given\n",
    "\n",
    "# Whitespace stripping\n",
    "s = ' hello world \\n'\n",
    "print(s.strip())\n",
    "print(s.lstrip())\n",
    "print(s.rstrip())\n",
    "\n",
    "# Character stripping\n",
    "t = '-----hello====='\n",
    "print(t.lstrip('-'))\n",
    "print(t.strip('-='))"
   ]
  },
  {
   "cell_type": "code",
   "execution_count": 3,
   "metadata": {},
   "outputs": [
    {
     "name": "stdout",
     "output_type": "stream",
     "text": [
      "hello world\n"
     ]
    }
   ],
   "source": [
    "# The various strip() methods are commonly used when reading and cleaning up data \n",
    "# for later processing. For example, you can use them to get rid of whitespace, \n",
    "# remove quotations, and other tasks.\n",
    "\n",
    "# Be aware that stripping does not apply to any text in the middle of a string.\n",
    "\n",
    "s = ' hello world \\n'\n",
    "s = s.strip()\n",
    "print(s)"
   ]
  },
  {
   "cell_type": "code",
   "execution_count": 4,
   "metadata": {},
   "outputs": [
    {
     "name": "stdout",
     "output_type": "stream",
     "text": [
      "helloworld\n",
      "hello world\n"
     ]
    }
   ],
   "source": [
    "# If you needed to do something to the inner space, you would need to use \n",
    "# another tech‐ nique, such as using the replace() method or a regular expression \n",
    "# substitution.\n",
    "\n",
    "print(s.replace(' ', ''))\n",
    "import re\n",
    "print(re.sub('\\s+', ' ', s))"
   ]
  },
  {
   "cell_type": "code",
   "execution_count": 5,
   "metadata": {},
   "outputs": [
    {
     "name": "stdout",
     "output_type": "stream",
     "text": [
      "hello world\n",
      "this is python\n"
     ]
    }
   ],
   "source": [
    "# It is often the case that you want to combine string stripping operations \n",
    "# with some other kind of iterative processing, such as reading lines of data from a file.\n",
    "# If so, this is one area where a generator expression can be useful.\n",
    "filename = 'linetest.txt'\n",
    "with open(filename) as f:\n",
    "    lines = (line.strip() for line in f)\n",
    "    for line in lines:\n",
    "        print(line)"
   ]
  },
  {
   "cell_type": "code",
   "execution_count": 6,
   "metadata": {},
   "outputs": [],
   "source": [
    "# Here, the expression lines = (line.strip() for line in f) acts as a kind of \n",
    "# data transform. It’s efficient because it doesn’t actually read the data \n",
    "# into any kind of tem‐ porary list first. It just creates an iterator where \n",
    "# all of the lines produced have the strip‐ ping operation applied to them.\n",
    "\n",
    "# For even more advanced stripping, you might turn to the translate() method. \n",
    "# See the next recipe on sanitizing strings for further details."
   ]
  }
 ],
 "metadata": {
  "kernelspec": {
   "display_name": "Python 3",
   "language": "python",
   "name": "python3"
  },
  "language_info": {
   "codemirror_mode": {
    "name": "ipython",
    "version": 3
   },
   "file_extension": ".py",
   "mimetype": "text/x-python",
   "name": "python",
   "nbconvert_exporter": "python",
   "pygments_lexer": "ipython3",
   "version": "3.6.6"
  }
 },
 "nbformat": 4,
 "nbformat_minor": 2
}
