{
 "cells": [
  {
   "cell_type": "code",
   "execution_count": 2,
   "metadata": {},
   "outputs": [
    {
     "name": "stdout",
     "output_type": "stream",
     "text": [
      "http://www.interpark.com/malls/index.html?\n",
      "73:6d:69:64:31:3d:68:65:61:64:65:72:26:73:6d:69:64:32:3d:6c:6f:67:6f\n",
      "Date: Wed, 05 Sep 2018 13:41:07 GMT\n",
      "ETag: \"0-77fb2-5b8fd318\"\n",
      "Last-Modified: Wed, 05 Sep 2018 12:59:04 GMT\n",
      "Accept-Ranges: bytes\n",
      "Content-Length: 491442\n",
      "Content-Type: text/html\n",
      "Connection: close\n",
      "Vary: Accept-Encoding\n",
      "\n",
      "\n",
      "Response Content Type is =  text/html\n",
      "Response Content Length is =  491442\n"
     ]
    },
    {
     "data": {
      "text/plain": [
       "'\\nfor line in u.readline():\\n    print(line)\\n'"
      ]
     },
     "execution_count": 2,
     "metadata": {},
     "output_type": "execute_result"
    }
   ],
   "source": [
    "#!/usr/bin/env python3\n",
    "# -*- coding: utf-8 -*-\n",
    "\"\"\"\n",
    "Created on Wed Sep  5 21:18:54 2018\n",
    "\n",
    "@author: sungyunlee\n",
    "\"\"\"\n",
    "\n",
    "from urllib import request, parse # Base URL being accessed\n",
    "\n",
    "#http://www.interpark.com/malls/index.html?smid1=header&smid2=logo\n",
    "#http://bimage.interpark.com/UI/pc/main/2017/gnb/logo_book.png\n",
    "url = 'http://www.interpark.com/malls/index.html'\n",
    "# Dictionary of query parameters (if any)\n",
    "parms = {\n",
    "   'smid1' : 'header',\n",
    "   'smid2' : 'logo'\n",
    "}\n",
    "# Encode the query string\n",
    "querystring = parse.urlencode(parms)\n",
    "\n",
    "# Make a GET request and read the response\n",
    "#u = request.urlopen(url+'?' + querystring)\n",
    "u = request.urlopen(url+'?', querystring.encode('ascii'))\n",
    "print(u.geturl())\n",
    "print(':'.join(hex(x)[2:] for x in querystring.encode('ascii')))\n",
    "\n",
    "#resp = u.read()\n",
    "resp_header = u.info()\n",
    "print(resp_header)\n",
    "print('Response Content Type is = ', resp_header[\"content-type\"])\n",
    "print('Response Content Length is = ', resp_header[\"content-length\"])\n",
    " \n",
    "\n",
    "'''\n",
    "for line in u.readline():\n",
    "    print(line)\n",
    "'''"
   ]
  },
  {
   "cell_type": "code",
   "execution_count": null,
   "metadata": {},
   "outputs": [],
   "source": []
  }
 ],
 "metadata": {
  "kernelspec": {
   "display_name": "Python 3",
   "language": "python",
   "name": "python3"
  },
  "language_info": {
   "codemirror_mode": {
    "name": "ipython",
    "version": 3
   },
   "file_extension": ".py",
   "mimetype": "text/x-python",
   "name": "python",
   "nbconvert_exporter": "python",
   "pygments_lexer": "ipython3",
   "version": "3.6.6"
  }
 },
 "nbformat": 4,
 "nbformat_minor": 2
}
