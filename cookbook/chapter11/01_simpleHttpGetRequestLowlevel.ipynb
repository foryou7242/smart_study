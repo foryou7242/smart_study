{
 "cells": [
  {
   "cell_type": "code",
   "execution_count": null,
   "metadata": {},
   "outputs": [
    {
     "name": "stdout",
     "output_type": "stream",
     "text": [
      "############### Response HEAD Section ###############\n",
      "Status 301\n",
      "Server Varnish\n",
      "Retry-After 0\n",
      "Location https://www.python.org/index.html\n",
      "Content-Length 0\n",
      "Accept-Ranges bytes\n",
      "Date Thu, 06 Sep 2018 16:06:34 GMT\n",
      "Via 1.1 varnish\n",
      "Connection close\n",
      "X-Served-By cache-hnd18737-HND\n",
      "X-Cache HIT\n",
      "X-Cache-Hits 0\n",
      "X-Timer S1536249995.760312,VS0,VE0\n",
      "Strict-Transport-Security max-age=63072000; includeSubDomains\n",
      "############### Response Auth Section ###############\n"
     ]
    }
   ],
   "source": [
    "#!/usr/bin/env python3\n",
    "# -*- coding: utf-8 -*-\n",
    "\"\"\"\n",
    "Created on Fri Sep  7 00:50:16 2018\n",
    "\n",
    "@author: sungyunlee\n",
    "\"\"\"\n",
    "import urllib.request\n",
    "from http.client import HTTPConnection\n",
    "from urllib import parse\n",
    "\n",
    "print(\"############### Response HEAD Section ###############\")\n",
    "c = HTTPConnection('www.python.org', 80)\n",
    "c.request('HEAD', '/index.html')\n",
    "resp = c.getresponse()\n",
    "    \n",
    "print('Status', resp.status)\n",
    "for name, value in resp.getheaders():\n",
    "    print(name, value)\n",
    "print(\"############### Response Auth Section ###############\")\n",
    "auth = urllib.request.HTTPBasicAuthHandler()\n",
    "auth.add_password('pypi','http://pypi.python.org','username','password')\n",
    "opener = urllib.request.build_opener(auth)\n",
    "r = urllib.request.Request('http://pypi.python.org/pypi?:action=login')\n",
    "u = opener.open(r)\n",
    "#resp = u.read()\n",
    "resp_header = u.info()\n",
    "print(resp_header)"
   ]
  },
  {
   "cell_type": "code",
   "execution_count": null,
   "metadata": {},
   "outputs": [],
   "source": []
  }
 ],
 "metadata": {
  "kernelspec": {
   "display_name": "Python 3",
   "language": "python",
   "name": "python3"
  },
  "language_info": {
   "codemirror_mode": {
    "name": "ipython",
    "version": 3
   },
   "file_extension": ".py",
   "mimetype": "text/x-python",
   "name": "python",
   "nbconvert_exporter": "python",
   "pygments_lexer": "ipython3",
   "version": "3.6.6"
  }
 },
 "nbformat": 4,
 "nbformat_minor": 2
}
