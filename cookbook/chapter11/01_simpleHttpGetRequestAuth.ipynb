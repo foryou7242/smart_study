{
 "cells": [
  {
   "cell_type": "code",
   "execution_count": null,
   "metadata": {},
   "outputs": [],
   "source": [
    "#!/usr/bin/env python3\n",
    "# -*- coding: utf-8 -*-\n",
    "\"\"\"\n",
    "Created on Wed Sep  5 23:58:14 2018\n",
    "\n",
    "@author: sungyunlee\n",
    "\"\"\"\n",
    "from urllib import parse # Base URL being accessed\n",
    "import requests\n",
    "\n",
    "print(\"############### Request Section ###############\")\n",
    "#http://www.interpark.com/malls/index.html?smid1=header&smid2=logo\n",
    "#http://bimage.interpark.com/UI/pc/main/2017/gnb/logo_book.png\n",
    "url = 'http://pypi.python.org/pypi?'\n",
    "# Dictionary of query parameters (if any)\n",
    "parms = {\n",
    "   'action' : 'login'\n",
    "}\n",
    "# Encode the query string\n",
    "querystring = parse.urlencode(parms)\n",
    "\n",
    "\n",
    "\n",
    "resp = requests.get(url + '?:' + querystring, auth=('user','password'))\n",
    "\n",
    "print(\"############### Response Section ###############\")\n",
    "resp_msg = resp.text\n",
    "print(resp_msg)"
   ]
  }
 ],
 "metadata": {
  "kernelspec": {
   "display_name": "Python 3",
   "language": "python",
   "name": "python3"
  },
  "language_info": {
   "codemirror_mode": {
    "name": "ipython",
    "version": 3
   },
   "file_extension": ".py",
   "mimetype": "text/x-python",
   "name": "python",
   "nbconvert_exporter": "python",
   "pygments_lexer": "ipython3",
   "version": "3.6.6"
  }
 },
 "nbformat": 4,
 "nbformat_minor": 2
}
