{
 "cells": [
  {
   "cell_type": "code",
   "execution_count": null,
   "metadata": {},
   "outputs": [],
   "source": [
    "#!/usr/bin/env python3\n",
    "# -*- coding: utf-8 -*-\n",
    "\"\"\"\n",
    "Created on Wed Sep  5 23:17:52 2018\n",
    "\n",
    "@author: sungyunlee\n",
    "\"\"\"\n",
    "\n",
    "import requests\n",
    "import json\n",
    "\n",
    "print(\"############### Request Section ###############\")\n",
    "#http://www.interpark.com/malls/index.html?smid1=header&smid2=logo\n",
    "#http://bimage.interpark.com/UI/pc/main/2017/gnb/logo_book.png\n",
    "url = 'http://www.httpbin.org/post'\n",
    "\n",
    "# Extra headers\n",
    "headers = {\n",
    "    'User-agent' : 'SmartStudyTool',\n",
    "    'Content-type' : 'application/json'\n",
    "}\n",
    "\n",
    "# Body\n",
    "body = {\n",
    "   'text': 'Hello HTTP #1 **cool**, and #1!'\n",
    "}\n",
    "json_body = json.dumps(body)\n",
    "\n",
    "resp = requests.post(url, data=json_body, headers=headers)\n",
    "print(resp.url)\n",
    "print(headers)\n",
    "print(json_body)\n",
    "\n",
    "print(\"############### Response Section ###############\")\n",
    "resp_msg = resp.text\n",
    "print(resp_msg)\n"
   ]
  }
 ],
 "metadata": {
  "kernelspec": {
   "display_name": "Python 3",
   "language": "python",
   "name": "python3"
  },
  "language_info": {
   "codemirror_mode": {
    "name": "ipython",
    "version": 3
   },
   "file_extension": ".py",
   "mimetype": "text/x-python",
   "name": "python",
   "nbconvert_exporter": "python",
   "pygments_lexer": "ipython3",
   "version": "3.6.6"
  }
 },
 "nbformat": 4,
 "nbformat_minor": 2
}
