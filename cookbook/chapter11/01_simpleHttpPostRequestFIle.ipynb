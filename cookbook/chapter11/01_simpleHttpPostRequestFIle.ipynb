{
 "cells": [
  {
   "cell_type": "code",
   "execution_count": 1,
   "metadata": {},
   "outputs": [
    {
     "name": "stdout",
     "output_type": "stream",
     "text": [
      "############### Request Section ###############\n",
      "{'file': ('data.json', <_io.BufferedReader name='data.json'>)}\n",
      "############### Response Section ###############\n",
      "{\n",
      "  \"args\": {}, \n",
      "  \"data\": \"\", \n",
      "  \"files\": {\n",
      "    \"file\": \"{\\\"text\\\": \\\"Hello HTTP #1 **cool**, and #1!\\\"}\\n\"\n",
      "  }, \n",
      "  \"form\": {}, \n",
      "  \"headers\": {\n",
      "    \"Accept\": \"*/*\", \n",
      "    \"Accept-Encoding\": \"gzip, deflate\", \n",
      "    \"Connection\": \"close\", \n",
      "    \"Content-Length\": \"189\", \n",
      "    \"Content-Type\": \"multipart/form-data; boundary=0cd7fa5f6e7368a0ff3c45a2d78aacf2\", \n",
      "    \"Host\": \"www.httpbin.org\", \n",
      "    \"User-Agent\": \"SmartStudyTool\"\n",
      "  }, \n",
      "  \"json\": null, \n",
      "  \"origin\": \"182.209.113.6\", \n",
      "  \"url\": \"http://www.httpbin.org/post\"\n",
      "}\n",
      "\n"
     ]
    }
   ],
   "source": [
    "#!/usr/bin/env python3\n",
    "# -*- coding: utf-8 -*-\n",
    "\"\"\"\n",
    "Created on Fri Sep  7 00:35:24 2018\n",
    "\n",
    "@author: sungyunlee\n",
    "\"\"\"\n",
    "\n",
    "\n",
    "import requests\n",
    "import json\n",
    "\n",
    "print(\"############### Request Section ###############\")\n",
    "#http://www.interpark.com/malls/index.html?smid1=header&smid2=logo\n",
    "#http://bimage.interpark.com/UI/pc/main/2017/gnb/logo_book.png\n",
    "url = 'http://www.httpbin.org/post'\n",
    "\n",
    "# Extra headers\n",
    "headers = {\n",
    "    'User-agent' : 'SmartStudyTool'\n",
    "}\n",
    "\n",
    "# File\n",
    "file = { 'file': ('data.json', open('data.json', 'rb')) }\n",
    "\n",
    "resp = requests.post(url, files=file, headers=headers)\n",
    "print(file)\n",
    "print(\"############### Response Section ###############\")\n",
    "resp_msg = resp.text\n",
    "print(resp_msg)\n"
   ]
  },
  {
   "cell_type": "code",
   "execution_count": null,
   "metadata": {},
   "outputs": [],
   "source": []
  }
 ],
 "metadata": {
  "kernelspec": {
   "display_name": "Python 3",
   "language": "python",
   "name": "python3"
  },
  "language_info": {
   "codemirror_mode": {
    "name": "ipython",
    "version": 3
   },
   "file_extension": ".py",
   "mimetype": "text/x-python",
   "name": "python",
   "nbconvert_exporter": "python",
   "pygments_lexer": "ipython3",
   "version": "3.6.6"
  }
 },
 "nbformat": 4,
 "nbformat_minor": 2
}
