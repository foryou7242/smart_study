{
 "cells": [
  {
   "cell_type": "code",
   "execution_count": null,
   "metadata": {},
   "outputs": [],
   "source": [
    "#!/usr/bin/env python3\n",
    "# -*- coding: utf-8 -*-\n",
    "\"\"\"\n",
    "Created on Wed Sep  5 23:53:49 2018\n",
    "\n",
    "@author: sungyunlee\n",
    "\"\"\"\n",
    "\n",
    "import requests\n",
    "import json\n",
    "\n",
    "print(\"############### Request Section ###############\")\n",
    "#http://www.interpark.com/malls/index.html?smid1=header&smid2=logo\n",
    "#http://bimage.interpark.com/UI/pc/main/2017/gnb/logo_book.png\n",
    "url = 'http://www.interpark.com/malls/index.html'\n",
    "print(url)\n",
    "\n",
    "resp = requests.head(url)\n",
    "status = resp.status_code\n",
    "last_modified = resp.headers['last-modified']\n",
    "content_type = resp.headers['content-type']\n",
    "content_length = resp.headers['content-length']\n",
    "\n",
    "print(\"############### Response Section ###############\")\n",
    "resp_msg = resp.text\n",
    "print(status)\n",
    "print(last_modified)\n",
    "print(content_type)\n",
    "print(content_length)"
   ]
  }
 ],
 "metadata": {
  "kernelspec": {
   "display_name": "Python 3",
   "language": "python",
   "name": "python3"
  },
  "language_info": {
   "codemirror_mode": {
    "name": "ipython",
    "version": 3
   },
   "file_extension": ".py",
   "mimetype": "text/x-python",
   "name": "python",
   "nbconvert_exporter": "python",
   "pygments_lexer": "ipython3",
   "version": "3.6.6"
  }
 },
 "nbformat": 4,
 "nbformat_minor": 2
}
