{
 "cells": [
  {
   "cell_type": "code",
   "execution_count": null,
   "metadata": {},
   "outputs": [],
   "source": [
    "#!/usr/bin/env python3\n",
    "# -*- coding: utf-8 -*-\n",
    "\"\"\"\n",
    "Created on Wed Sep  5 22:48:10 2018\n",
    "\n",
    "@author: sungyunlee\n",
    "\"\"\"\n",
    "\n",
    "\n",
    "from urllib import request, parse # Base URL being accessed\n",
    "\n",
    "print(\"############### Request Section ###############\")\n",
    "#http://www.interpark.com/malls/index.html?smid1=header&smid2=logo\n",
    "#http://bimage.interpark.com/UI/pc/main/2017/gnb/logo_book.png\n",
    "url = 'http://www.interpark.com/malls/index.html'\n",
    "# Dictionary of query parameters (if any)\n",
    "parms = {\n",
    "   'smid1' : 'header',\n",
    "   'smid2' : 'logo'\n",
    "}\n",
    "# Encode the query string\n",
    "querystring = parse.urlencode(parms)\n",
    "\n",
    "# Extra headers\n",
    "headers = {\n",
    "    'User-agent' : 'SmartStudyTool',\n",
    "    'Spam' : 'Eggs'\n",
    "}\n",
    "#req = request.Request(url+'?', querystring.encode('ascii'), headers=headers)\n",
    "req = request.Request(url+'?', querystring.encode('ascii'))\n",
    "req.add_header('User-agent', 'SmartStudyTool')\n",
    "req.add_header('Spam', 'Eggs')\n",
    "\n",
    "print(req.get_full_url())\n",
    "print(req.header_items())\n",
    "\n",
    "# Make a GET request and read the response\n",
    "u = request.urlopen(req)\n",
    "\n",
    "print(\"############### Response Section ###############\")\n",
    "#resp = u.read()\n",
    "resp_header = u.info()\n",
    "print(resp_header)"
   ]
  }
 ],
 "metadata": {
  "kernelspec": {
   "display_name": "Python 3",
   "language": "python",
   "name": "python3"
  },
  "language_info": {
   "codemirror_mode": {
    "name": "ipython",
    "version": 3
   },
   "file_extension": ".py",
   "mimetype": "text/x-python",
   "name": "python",
   "nbconvert_exporter": "python",
   "pygments_lexer": "ipython3",
   "version": "3.6.6"
  }
 },
 "nbformat": 4,
 "nbformat_minor": 2
}
