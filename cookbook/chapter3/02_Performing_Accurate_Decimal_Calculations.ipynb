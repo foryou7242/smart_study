{
 "cells": [
  {
   "cell_type": "code",
   "execution_count": 1,
   "metadata": {},
   "outputs": [
    {
     "data": {
      "text/plain": [
       "'\\nProblem\\nYou need to perform accurate calculations with decimal numbers, \\nand don’t want the small errors that naturally occur with floats.\\n'"
      ]
     },
     "execution_count": 1,
     "metadata": {},
     "output_type": "execute_result"
    }
   ],
   "source": [
    "#!/usr/bin/env python3\n",
    "# -*- coding: utf-8 -*-\n",
    "\"\"\"\n",
    "Created on Thu Oct 11 21:38:31 2018\n",
    "\n",
    "@author: sungyunlee\n",
    "\"\"\"\n",
    "\n",
    "'''\n",
    "Problem\n",
    "You need to perform accurate calculations with decimal numbers, \n",
    "and don’t want the small errors that naturally occur with floats.\n",
    "'''"
   ]
  },
  {
   "cell_type": "code",
   "execution_count": 2,
   "metadata": {},
   "outputs": [
    {
     "name": "stdout",
     "output_type": "stream",
     "text": [
      "6.300000000000001\n",
      "False\n"
     ]
    }
   ],
   "source": [
    "# A well-known issue with floating-point numbers is that \n",
    "# they can’t accurately represent all base-10 decimals. \n",
    "# Moreover, even simple mathematical calculations introduce small errors.\n",
    "\n",
    "a = 4.2\n",
    "b = 2.1\n",
    "print(a + b)\n",
    "print((a + b) == 6.3)"
   ]
  },
  {
   "cell_type": "code",
   "execution_count": 3,
   "metadata": {},
   "outputs": [
    {
     "name": "stdout",
     "output_type": "stream",
     "text": [
      "6.3\n",
      "True\n"
     ]
    }
   ],
   "source": [
    "# These errors are a “feature” of the underlying CPU and \n",
    "# the IEEE 754 arithmetic per‐ formed by its floating-point unit. \n",
    "# Since Python’s float data type stores data using the native representation, \n",
    "# there’s nothing you can do to avoid such errors\n",
    "# if you write your code using float instances.\n",
    "\n",
    "# If you want more accuracy (and are willing to give up some performance)\n",
    "\n",
    "from decimal import Decimal\n",
    "a = Decimal('4.2')\n",
    "b = Decimal('2.1')\n",
    "print(a + b)\n",
    "print((a + b) == Decimal('6.3'))"
   ]
  },
  {
   "cell_type": "code",
   "execution_count": 4,
   "metadata": {},
   "outputs": [
    {
     "name": "stdout",
     "output_type": "stream",
     "text": [
      "0.7647058823529411764705882353\n",
      "0.765\n",
      "0.76470588235294117647058823529411764705882352941176\n"
     ]
    }
   ],
   "source": [
    "# it might look a little weird (i.e., specifying numbers as strings). \n",
    "# However, Decimal objects work in every way that you would expect them \n",
    "# to (supporting all of the usual math operations, etc.). \n",
    "# If you print them or use them in string formatting func‐ tions, \n",
    "# they look like normal numbers.\n",
    "\n",
    "# A major feature of decimal is that it allows you to control different aspects \n",
    "# of calcula‐ tions, including number of digits and rounding. \n",
    "# To do this, you create a local context and change its settings.\n",
    "\n",
    "from decimal import localcontext\n",
    "a = Decimal('1.3')\n",
    "b = Decimal('1.7')\n",
    "print(a / b)\n",
    "with localcontext() as ctx:\n",
    "    ctx.prec = 3\n",
    "    print(a / b)\n",
    "    \n",
    "with localcontext() as ctx:\n",
    "    ctx.prec = 50\n",
    "    print(a / b)"
   ]
  },
  {
   "cell_type": "code",
   "execution_count": 5,
   "metadata": {},
   "outputs": [
    {
     "name": "stdout",
     "output_type": "stream",
     "text": [
      "0.0\n"
     ]
    }
   ],
   "source": [
    "# The decimal module implements IBM’s “General Decimal Arithmetic Specification.” \n",
    "# there are a huge number of configuration options that are beyond the scope of this book.\n",
    "    \n",
    "# Newcomers to Python might be inclined to use the decimal module \n",
    "# to work around perceived accuracy problems with the float data type. \n",
    "# However, it’s really important to understand your application domain.\n",
    "# If you’re working with science or engineering problems, computer graphics, \n",
    "# or most things of a scientific nature, \n",
    "# it’s simply more common to use the normal floating-point type. \n",
    "# For one, very few things in the real world are measured to the 17 digits of accuracy \n",
    "# that floats provide. Thus, tiny errors introduced in calculations just don’t matter. \n",
    "# Second, the performance of native floats is significantly faster—something \n",
    "# that’s important if you’re performing a large number of calculations.\n",
    "    \n",
    "    \n",
    "# Mathematicians have spent a lot of time studying various algorithms, \n",
    "# and some handle errors better than others. You also have to be a little careful \n",
    "# with effects due to things such as subtractive cancellation and adding large \n",
    "# and small numbers together. \n",
    "\n",
    "nums = [1.23e+18, 1, -1.23e+18]\n",
    "print(sum(nums))"
   ]
  },
  {
   "cell_type": "code",
   "execution_count": 6,
   "metadata": {},
   "outputs": [
    {
     "data": {
      "text/plain": [
       "1.0"
      ]
     },
     "execution_count": 6,
     "metadata": {},
     "output_type": "execute_result"
    }
   ],
   "source": [
    "# This latter example can be addressed by using a more accurate implementation \n",
    "# in math.fsum()\n",
    "import math\n",
    "math.fsum(nums)\n",
    "\n",
    "# you really need to study the algorithm and understand its error propagation properties.\n",
    "# the main use of the decimal module is in programs involving things such as finance. \n",
    "# In such programs, it is extremely annoying to have small errors creep \n",
    "# into the calculation. Thus, decimal provides a way to avoid that. \n",
    "# It is also common to encounter Decimal objects when Python interfaces \n",
    "# with databases—again, especially when accessing financial data"
   ]
  }
 ],
 "metadata": {
  "kernelspec": {
   "display_name": "Python 3",
   "language": "python",
   "name": "python3"
  },
  "language_info": {
   "codemirror_mode": {
    "name": "ipython",
    "version": 3
   },
   "file_extension": ".py",
   "mimetype": "text/x-python",
   "name": "python",
   "nbconvert_exporter": "python",
   "pygments_lexer": "ipython3",
   "version": "3.6.6"
  }
 },
 "nbformat": 4,
 "nbformat_minor": 2
}
