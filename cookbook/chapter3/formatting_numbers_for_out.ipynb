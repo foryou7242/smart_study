{
 "cells": [
  {
   "cell_type": "code",
   "execution_count": 1,
   "metadata": {},
   "outputs": [
    {
     "name": "stdout",
     "output_type": "stream",
     "text": [
      "Help on built-in function format in module builtins:\n",
      "\n",
      "format(value, format_spec='', /)\n",
      "    Return value.__format__(format_spec)\n",
      "    \n",
      "    format_spec defaults to the empty string.\n",
      "    See the Format Specification Mini-Language section of help('FORMATTING') for\n",
      "    details.\n",
      "\n"
     ]
    }
   ],
   "source": [
    "help(format)"
   ]
  },
  {
   "cell_type": "code",
   "execution_count": 50,
   "metadata": {},
   "outputs": [
    {
     "name": "stdout",
     "output_type": "stream",
     "text": [
      "    1234.6\n",
      "    1234.6\n",
      "1234.6    \n",
      "1234.6    \n",
      "  1234.6  \n",
      "  1234.6  \n",
      "1,234.56789\n",
      "1,234.56789\n",
      "1,234.6\n",
      "1,234.6\n",
      "1,234.6\n",
      "1,234.6\n",
      "1.234568e+03\n",
      "1.234568e+03\n",
      "1.23E+03\n",
      "1.23E+03\n"
     ]
    }
   ],
   "source": [
    "x = 1234.56789\n",
    "\n",
    "print(format(x, '>10.1f'))\n",
    "print(f'{x:10.1f}')\n",
    "\n",
    "print(format(x, '<10.1f'))\n",
    "print(f'{x:<10.1f}')\n",
    "\n",
    "print(format(x, '^10.1f'))\n",
    "print(f'{x:^10.1f}')\n",
    "\n",
    "print(format(x, ','))\n",
    "print(f'{x:,}')\n",
    "\n",
    "print(format(x, ',.1f'))\n",
    "print(f'{x:,.1f}')\n",
    "\n",
    "print(format(x, '0,.1f'))\n",
    "print(f'{x:0,.1f}')\n",
    "\n",
    "print(format(x, 'e'))\n",
    "print(f'{x:e}')\n",
    "\n",
    "print(format(x, '.2E'))\n",
    "print(f'{x:.2E}')\n"
   ]
  },
  {
   "cell_type": "code",
   "execution_count": null,
   "metadata": {},
   "outputs": [],
   "source": []
  }
 ],
 "metadata": {
  "kernelspec": {
   "display_name": "Python 3",
   "language": "python",
   "name": "python3"
  },
  "language_info": {
   "codemirror_mode": {
    "name": "ipython",
    "version": 3
   },
   "file_extension": ".py",
   "mimetype": "text/x-python",
   "name": "python",
   "nbconvert_exporter": "python",
   "pygments_lexer": "ipython3",
   "version": "3.6.5"
  }
 },
 "nbformat": 4,
 "nbformat_minor": 2
}
