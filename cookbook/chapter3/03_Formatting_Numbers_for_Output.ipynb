{
 "cells": [
  {
   "cell_type": "code",
   "execution_count": 1,
   "metadata": {},
   "outputs": [
    {
     "data": {
      "text/plain": [
       "'\\nProblem\\nYou need to format a number for output, \\ncontrolling the number of digits, alignment, \\ninclusion of a thousands separator, and other details.\\n'"
      ]
     },
     "execution_count": 1,
     "metadata": {},
     "output_type": "execute_result"
    }
   ],
   "source": [
    "#!/usr/bin/env python3\n",
    "# -*- coding: utf-8 -*-\n",
    "\"\"\"\n",
    "Created on Thu Oct 11 22:35:55 2018\n",
    "\n",
    "@author: sungyunlee\n",
    "\"\"\"\n",
    "\n",
    "'''\n",
    "Problem\n",
    "You need to format a number for output, \n",
    "controlling the number of digits, alignment, \n",
    "inclusion of a thousands separator, and other details.\n",
    "'''"
   ]
  },
  {
   "cell_type": "code",
   "execution_count": 2,
   "metadata": {},
   "outputs": [
    {
     "name": "stdout",
     "output_type": "stream",
     "text": [
      "1234.57\n",
      "    1234.6\n",
      "1234.6    \n",
      "  1234.6  \n",
      "1,234.56789\n",
      "1,234.6\n"
     ]
    }
   ],
   "source": [
    "# To format a single number for output, use the built-in format() function. \n",
    "\n",
    "x = 1234.56789\n",
    "\n",
    "# Two decimal places of accuracy\n",
    "print(format(x, '0.2f'))\n",
    "\n",
    "# Right justified in 10 chars, one-digit accuracy\n",
    "print(format(x, '>10.1f'))\n",
    "\n",
    "# Left justified\n",
    "print(format(x, '<10.1f'))\n",
    "\n",
    "# Centered\n",
    "print(format(x, '^10.1f'))\n",
    "\n",
    "# Inclusion of thousands separator\n",
    "print(format(x, ','))\n",
    "print(format(x, '0,.1f'))"
   ]
  },
  {
   "cell_type": "code",
   "execution_count": 3,
   "metadata": {},
   "outputs": [
    {
     "name": "stdout",
     "output_type": "stream",
     "text": [
      "1.234568e+03\n",
      "1.23E+03\n"
     ]
    }
   ],
   "source": [
    "# If you want to use exponential notation, change the f to an e or E, \n",
    "# depending on the case you want used for the exponential specifier. \n",
    "\n",
    "print(format(x, 'e'))\n",
    "print(format(x, '0.2E'))"
   ]
  },
  {
   "cell_type": "code",
   "execution_count": 4,
   "metadata": {},
   "outputs": [
    {
     "name": "stdout",
     "output_type": "stream",
     "text": [
      "The value is 1,234.57\n"
     ]
    }
   ],
   "source": [
    "# The general form of the width and precision in both cases is '[<>^]?width[,]?(.dig its)?' \n",
    "# where width and digits are integers and ? signifies optional parts. \n",
    "# The same format codes are also used in the .format() method of strings.\n",
    "\n",
    "print('The value is {:0,.2f}'.format(x))"
   ]
  },
  {
   "cell_type": "code",
   "execution_count": 5,
   "metadata": {},
   "outputs": [
    {
     "name": "stdout",
     "output_type": "stream",
     "text": [
      "1234.56789\n",
      "1234.6\n",
      "-1234.6\n"
     ]
    }
   ],
   "source": [
    "# Formatting numbers for output is usually straightforward. \n",
    "# The technique shown works for both floating-point numbers and Decimal numbers \n",
    "# in the decimal module.\n",
    "\n",
    "# When the number of digits is restricted, values are rounded away according \n",
    "# to the same rules of the round() function.\n",
    "print(x)\n",
    "print(format(x, '0.1f'))\n",
    "print(format(-x, '0.1f'))"
   ]
  },
  {
   "cell_type": "code",
   "execution_count": 6,
   "metadata": {},
   "outputs": [
    {
     "name": "stdout",
     "output_type": "stream",
     "text": [
      "1.234,56789\n"
     ]
    }
   ],
   "source": [
    "# Formatting of values with a thousands separator is not locale aware. \n",
    "# If you need to take that into account, you might investigate functions \n",
    "# in the locale module. You can also swap separator characters \n",
    "# using the translate() method of strings. \n",
    "\n",
    "swap_separators = { ord('.'):',', ord(','):'.' }\n",
    "print(format(x, ',').translate(swap_separators))"
   ]
  },
  {
   "cell_type": "code",
   "execution_count": 7,
   "metadata": {},
   "outputs": [
    {
     "name": "stdout",
     "output_type": "stream",
     "text": [
      "1234.57\n",
      "    1234.6\n",
      "1234.6    \n"
     ]
    }
   ],
   "source": [
    "# In a lot of Python code, numbers are formatted using the % operator. \n",
    "print('%0.2f' % x)\n",
    "print('%10.1f' % x)\n",
    "print('%-10.1f' % x)\n",
    "\n",
    "# This formatting is still acceptable, but less powerful than \n",
    "# the more modern format() method. For example, some features \n",
    "# (e.g., adding thousands separators) aren’t sup‐ ported when using the % operator \n",
    "# to format numbers."
   ]
  }
 ],
 "metadata": {
  "kernelspec": {
   "display_name": "Python 3",
   "language": "python",
   "name": "python3"
  },
  "language_info": {
   "codemirror_mode": {
    "name": "ipython",
    "version": 3
   },
   "file_extension": ".py",
   "mimetype": "text/x-python",
   "name": "python",
   "nbconvert_exporter": "python",
   "pygments_lexer": "ipython3",
   "version": "3.6.6"
  }
 },
 "nbformat": 4,
 "nbformat_minor": 2
}
