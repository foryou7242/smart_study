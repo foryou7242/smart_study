{
 "cells": [
  {
   "cell_type": "code",
   "execution_count": 1,
   "metadata": {},
   "outputs": [
    {
     "data": {
      "text/plain": [
       "'\\nProblem\\nYou need to convert or output integers represented by binary, octal, or \\nhexadecimal digits.\\n'"
      ]
     },
     "execution_count": 1,
     "metadata": {},
     "output_type": "execute_result"
    }
   ],
   "source": [
    "#!/usr/bin/env python3\n",
    "# -*- coding: utf-8 -*-\n",
    "\"\"\"\n",
    "Created on Thu Oct 11 23:12:39 2018\n",
    "\n",
    "@author: sungyunlee\n",
    "\"\"\"\n",
    "\n",
    "'''\n",
    "Problem\n",
    "You need to convert or output integers represented by binary, octal, or \n",
    "hexadecimal digits.\n",
    "'''"
   ]
  },
  {
   "cell_type": "code",
   "execution_count": 2,
   "metadata": {},
   "outputs": [
    {
     "name": "stdout",
     "output_type": "stream",
     "text": [
      "0b10011010010\n",
      "0o2322\n",
      "0x4d2\n"
     ]
    }
   ],
   "source": [
    "# To convert an integer into a binary, octal, or hexadecimal text string, \n",
    "# use the bin(), oct(), or hex() functions, respectively\n",
    "\n",
    "x = 1234\n",
    "print(bin(x))\n",
    "print(oct(x))\n",
    "print(hex(x))"
   ]
  },
  {
   "cell_type": "code",
   "execution_count": 3,
   "metadata": {},
   "outputs": [
    {
     "name": "stdout",
     "output_type": "stream",
     "text": [
      "10011010010\n",
      "2322\n",
      "4d2\n"
     ]
    }
   ],
   "source": [
    "# Alternatively, you can use the format() function \n",
    "# if you don’t want the 0b, 0o, or 0x prefixes to appear. \n",
    "\n",
    "print(format(x, 'b'))\n",
    "print(format(x, 'o'))\n",
    "print(format(x, 'x'))"
   ]
  },
  {
   "cell_type": "code",
   "execution_count": 4,
   "metadata": {},
   "outputs": [
    {
     "name": "stdout",
     "output_type": "stream",
     "text": [
      "-10011010010\n",
      "-4d2\n"
     ]
    }
   ],
   "source": [
    "# Integers are signed, so if you are working with negative numbers, \n",
    "# the output will also include a sign. \n",
    "\n",
    "x = -1234\n",
    "print(format(x, 'b'))\n",
    "print(format(x, 'x'))"
   ]
  },
  {
   "cell_type": "code",
   "execution_count": 5,
   "metadata": {},
   "outputs": [
    {
     "name": "stdout",
     "output_type": "stream",
     "text": [
      "11111111111111111111101100101110\n",
      "fffffb2e\n"
     ]
    }
   ],
   "source": [
    "# If you need to produce an unsigned value instead, \n",
    "# you’ll need to add in the maximum value to set the bit length. \n",
    "# For example, to show a 32-bit value, use the following\n",
    "\n",
    "x = -1234\n",
    "print(format(2**32 + x, 'b'))\n",
    "print(format(2**32 + x, 'x'))"
   ]
  },
  {
   "cell_type": "code",
   "execution_count": 6,
   "metadata": {},
   "outputs": [
    {
     "name": "stdout",
     "output_type": "stream",
     "text": [
      "1234\n",
      "1234\n"
     ]
    }
   ],
   "source": [
    "# To convert integer strings in different bases, simply use the int() function\n",
    "# with an appropriate base. \n",
    "print(int('4d2', 16))\n",
    "print(int('10011010010', 2))"
   ]
  },
  {
   "cell_type": "code",
   "execution_count": 7,
   "metadata": {},
   "outputs": [
    {
     "ename": "SyntaxError",
     "evalue": "invalid token (<ipython-input-7-09ad6a604ba5>, line 12)",
     "output_type": "error",
     "traceback": [
      "\u001b[0;36m  File \u001b[0;32m\"<ipython-input-7-09ad6a604ba5>\"\u001b[0;36m, line \u001b[0;32m12\u001b[0m\n\u001b[0;31m    os.chmod('script.py', 0755)\u001b[0m\n\u001b[0m                             ^\u001b[0m\n\u001b[0;31mSyntaxError\u001b[0m\u001b[0;31m:\u001b[0m invalid token\n"
     ]
    }
   ],
   "source": [
    "# For the most part, working with binary, octal, and hexadecimal integers \n",
    "# is straightfor‐ ward. Just remember that these conversions only pertain \n",
    "# to the conversion of integers to and from a textual representation. \n",
    "# Under the covers, there’s just one integer type.\n",
    "\n",
    "# Finally, there is one caution for programmers who use octal. \n",
    "# The Python syntax for specifying octal values is slightly different than \n",
    "# many other languages. For example, if you try something like this, \n",
    "# you’ll get a syntax error\n",
    "\n",
    "import os\n",
    "os.chmod('script.py', 0755)\n",
    "\n",
    "# Make sure you prefix the octal value with 0o, as shown here:\n",
    "os.chmod('script.py', 0o755)"
   ]
  }
 ],
 "metadata": {
  "kernelspec": {
   "display_name": "Python 3",
   "language": "python",
   "name": "python3"
  },
  "language_info": {
   "codemirror_mode": {
    "name": "ipython",
    "version": 3
   },
   "file_extension": ".py",
   "mimetype": "text/x-python",
   "name": "python",
   "nbconvert_exporter": "python",
   "pygments_lexer": "ipython3",
   "version": "3.6.6"
  }
 },
 "nbformat": 4,
 "nbformat_minor": 2
}
